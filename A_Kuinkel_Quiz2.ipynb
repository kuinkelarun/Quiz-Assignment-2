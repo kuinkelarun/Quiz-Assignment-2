{
 "cells": [
  {
   "cell_type": "markdown",
   "metadata": {},
   "source": [
    "# <u> UCI Automobile Data Set </u>"
   ]
  },
  {
   "cell_type": "markdown",
   "metadata": {},
   "source": [
    "## Section 1: Data Loading"
   ]
  },
  {
   "cell_type": "markdown",
   "metadata": {},
   "source": [
    "There are many attributes in the automotive data set provided by the UCI Machine Learning Repository. This data set has twenty six different attributes. It is a very rich range of information which can be used to study different aspects of automotive in general. However, we will use some of the attributes that are more relevent as per our infromation need related to <b> automobile gas mileage </b> in the comming sections. \n",
    "\n",
    "The data set that we have comprises 205 rows and 26 variables.\n",
    "\n",
    "- UCI's explanation about the data set is as follows: \n",
    "\n",
    "- > This data set consists of three types of entities: (a) the specification of an auto in terms of various characteristics, (b) its assigned insurance risk rating, (c) its normalized losses in use as compared to other cars. The second rating corresponds to the degree to which the auto is more risky than its price indicates. Cars are initially assigned a risk factor symbol associated with its price. Then, if it is more risky (or less), this symbol is adjusted by moving it up (or down) the scale. Actuarians call this process \"symboling\". A value of +3 indicates that the auto is risky, -3 that it is probably pretty safe.\n",
    "\n",
    "- > The third factor is the relative average loss payment per insured vehicle year. This value is normalized for all autos within a particular size classification (two-door small, station wagons, sports/speciality, etc...), and represents the average loss per car per year.\n",
    "\n",
    "All of the entities mentioned above may be very important while dealing with the analytics of automotive in general, but because we are only interested in the data sets that are composed of information in relation to \"automobile gas mileage\". I have selected following few attributes that I believe are more relevent to the information need of this project: \n",
    "\n",
    "- make\n",
    "- fuel-type: diesel, gas\n",
    "- aspiration: std, turbo\n",
    "- drive-wheels: 4wd, fwd, rwd.\n",
    "- curb-weight: continuous from 1488 to 4066. (might be impacted by length, width, height)\n",
    "- engine-type: dohc, dohcv, l, ohc, ohcf, ohcv, rotor.\n",
    "- num-of-cylinders: eight, five, four, six, three, twelve, two.\n",
    "- engine-size: continuous from 61 to 326.\n",
    "- horsepower: continuous from 48 to 288. (bore, stroke, compression ratio: impact, y, n ?)\n",
    "- city-mpg\n",
    "- highway-mpg\n",
    "\n",
    "We will be analyzing these attributes using various plotting techniques in the EDA and Data Summary Section."
   ]
  },
  {
   "cell_type": "markdown",
   "metadata": {},
   "source": [
    "### Data Loading"
   ]
  },
  {
   "cell_type": "code",
   "execution_count": 420,
   "metadata": {},
   "outputs": [],
   "source": [
    "# bunch of import statememts that are going to be used throught the project\n",
    "\n",
    "import pandas as pd\n",
    "import numpy as np\n",
    "import seaborn as sns\n",
    "import matplotlib.pyplot as plt"
   ]
  },
  {
   "cell_type": "code",
   "execution_count": 422,
   "metadata": {},
   "outputs": [
    {
     "data": {
      "text/html": [
       "<div>\n",
       "<style scoped>\n",
       "    .dataframe tbody tr th:only-of-type {\n",
       "        vertical-align: middle;\n",
       "    }\n",
       "\n",
       "    .dataframe tbody tr th {\n",
       "        vertical-align: top;\n",
       "    }\n",
       "\n",
       "    .dataframe thead th {\n",
       "        text-align: right;\n",
       "    }\n",
       "</style>\n",
       "<table border=\"1\" class=\"dataframe\">\n",
       "  <thead>\n",
       "    <tr style=\"text-align: right;\">\n",
       "      <th></th>\n",
       "      <th>0</th>\n",
       "      <th>1</th>\n",
       "      <th>2</th>\n",
       "      <th>3</th>\n",
       "      <th>4</th>\n",
       "      <th>5</th>\n",
       "      <th>6</th>\n",
       "      <th>7</th>\n",
       "      <th>8</th>\n",
       "      <th>9</th>\n",
       "      <th>...</th>\n",
       "      <th>16</th>\n",
       "      <th>17</th>\n",
       "      <th>18</th>\n",
       "      <th>19</th>\n",
       "      <th>20</th>\n",
       "      <th>21</th>\n",
       "      <th>22</th>\n",
       "      <th>23</th>\n",
       "      <th>24</th>\n",
       "      <th>25</th>\n",
       "    </tr>\n",
       "  </thead>\n",
       "  <tbody>\n",
       "    <tr>\n",
       "      <th>0</th>\n",
       "      <td>3</td>\n",
       "      <td>?</td>\n",
       "      <td>alfa-romero</td>\n",
       "      <td>gas</td>\n",
       "      <td>std</td>\n",
       "      <td>two</td>\n",
       "      <td>convertible</td>\n",
       "      <td>rwd</td>\n",
       "      <td>front</td>\n",
       "      <td>88.6</td>\n",
       "      <td>...</td>\n",
       "      <td>130</td>\n",
       "      <td>mpfi</td>\n",
       "      <td>3.47</td>\n",
       "      <td>2.68</td>\n",
       "      <td>9.0</td>\n",
       "      <td>111</td>\n",
       "      <td>5000</td>\n",
       "      <td>21</td>\n",
       "      <td>27</td>\n",
       "      <td>13495</td>\n",
       "    </tr>\n",
       "    <tr>\n",
       "      <th>1</th>\n",
       "      <td>3</td>\n",
       "      <td>?</td>\n",
       "      <td>alfa-romero</td>\n",
       "      <td>gas</td>\n",
       "      <td>std</td>\n",
       "      <td>two</td>\n",
       "      <td>convertible</td>\n",
       "      <td>rwd</td>\n",
       "      <td>front</td>\n",
       "      <td>88.6</td>\n",
       "      <td>...</td>\n",
       "      <td>130</td>\n",
       "      <td>mpfi</td>\n",
       "      <td>3.47</td>\n",
       "      <td>2.68</td>\n",
       "      <td>9.0</td>\n",
       "      <td>111</td>\n",
       "      <td>5000</td>\n",
       "      <td>21</td>\n",
       "      <td>27</td>\n",
       "      <td>16500</td>\n",
       "    </tr>\n",
       "    <tr>\n",
       "      <th>2</th>\n",
       "      <td>1</td>\n",
       "      <td>?</td>\n",
       "      <td>alfa-romero</td>\n",
       "      <td>gas</td>\n",
       "      <td>std</td>\n",
       "      <td>two</td>\n",
       "      <td>hatchback</td>\n",
       "      <td>rwd</td>\n",
       "      <td>front</td>\n",
       "      <td>94.5</td>\n",
       "      <td>...</td>\n",
       "      <td>152</td>\n",
       "      <td>mpfi</td>\n",
       "      <td>2.68</td>\n",
       "      <td>3.47</td>\n",
       "      <td>9.0</td>\n",
       "      <td>154</td>\n",
       "      <td>5000</td>\n",
       "      <td>19</td>\n",
       "      <td>26</td>\n",
       "      <td>16500</td>\n",
       "    </tr>\n",
       "    <tr>\n",
       "      <th>3</th>\n",
       "      <td>2</td>\n",
       "      <td>164</td>\n",
       "      <td>audi</td>\n",
       "      <td>gas</td>\n",
       "      <td>std</td>\n",
       "      <td>four</td>\n",
       "      <td>sedan</td>\n",
       "      <td>fwd</td>\n",
       "      <td>front</td>\n",
       "      <td>99.8</td>\n",
       "      <td>...</td>\n",
       "      <td>109</td>\n",
       "      <td>mpfi</td>\n",
       "      <td>3.19</td>\n",
       "      <td>3.40</td>\n",
       "      <td>10.0</td>\n",
       "      <td>102</td>\n",
       "      <td>5500</td>\n",
       "      <td>24</td>\n",
       "      <td>30</td>\n",
       "      <td>13950</td>\n",
       "    </tr>\n",
       "    <tr>\n",
       "      <th>4</th>\n",
       "      <td>2</td>\n",
       "      <td>164</td>\n",
       "      <td>audi</td>\n",
       "      <td>gas</td>\n",
       "      <td>std</td>\n",
       "      <td>four</td>\n",
       "      <td>sedan</td>\n",
       "      <td>4wd</td>\n",
       "      <td>front</td>\n",
       "      <td>99.4</td>\n",
       "      <td>...</td>\n",
       "      <td>136</td>\n",
       "      <td>mpfi</td>\n",
       "      <td>3.19</td>\n",
       "      <td>3.40</td>\n",
       "      <td>8.0</td>\n",
       "      <td>115</td>\n",
       "      <td>5500</td>\n",
       "      <td>18</td>\n",
       "      <td>22</td>\n",
       "      <td>17450</td>\n",
       "    </tr>\n",
       "  </tbody>\n",
       "</table>\n",
       "<p>5 rows × 26 columns</p>\n",
       "</div>"
      ],
      "text/plain": [
       "   0    1            2    3    4     5            6    7      8     9   ...  \\\n",
       "0   3    ?  alfa-romero  gas  std   two  convertible  rwd  front  88.6  ...   \n",
       "1   3    ?  alfa-romero  gas  std   two  convertible  rwd  front  88.6  ...   \n",
       "2   1    ?  alfa-romero  gas  std   two    hatchback  rwd  front  94.5  ...   \n",
       "3   2  164         audi  gas  std  four        sedan  fwd  front  99.8  ...   \n",
       "4   2  164         audi  gas  std  four        sedan  4wd  front  99.4  ...   \n",
       "\n",
       "    16    17    18    19    20   21    22  23  24     25  \n",
       "0  130  mpfi  3.47  2.68   9.0  111  5000  21  27  13495  \n",
       "1  130  mpfi  3.47  2.68   9.0  111  5000  21  27  16500  \n",
       "2  152  mpfi  2.68  3.47   9.0  154  5000  19  26  16500  \n",
       "3  109  mpfi  3.19  3.40  10.0  102  5500  24  30  13950  \n",
       "4  136  mpfi  3.19  3.40   8.0  115  5500  18  22  17450  \n",
       "\n",
       "[5 rows x 26 columns]"
      ]
     },
     "execution_count": 422,
     "metadata": {},
     "output_type": "execute_result"
    }
   ],
   "source": [
    "# uploading data to pandas\n",
    "\n",
    "df = pd.read_csv('https://raw.githubusercontent.com/kuinkelarun/Quiz-Assignment-2/main/imports-85.csv', header=None)\n",
    "#prints few lines of the sample table including the deader \n",
    "df.head()\n"
   ]
  },
  {
   "cell_type": "markdown",
   "metadata": {},
   "source": [
    "As we can see, the given data does not provide any column names, next task is to assign some meaningful names for the columns. The header will be based on the information available provided in the UCI Repository."
   ]
  },
  {
   "cell_type": "code",
   "execution_count": 423,
   "metadata": {},
   "outputs": [
    {
     "name": "stdout",
     "output_type": "stream",
     "text": [
      "(205, 26)\n"
     ]
    },
    {
     "data": {
      "text/html": [
       "<div>\n",
       "<style scoped>\n",
       "    .dataframe tbody tr th:only-of-type {\n",
       "        vertical-align: middle;\n",
       "    }\n",
       "\n",
       "    .dataframe tbody tr th {\n",
       "        vertical-align: top;\n",
       "    }\n",
       "\n",
       "    .dataframe thead th {\n",
       "        text-align: right;\n",
       "    }\n",
       "</style>\n",
       "<table border=\"1\" class=\"dataframe\">\n",
       "  <thead>\n",
       "    <tr style=\"text-align: right;\">\n",
       "      <th></th>\n",
       "      <th>Symbol</th>\n",
       "      <th>Normalized Loss</th>\n",
       "      <th>Make</th>\n",
       "      <th>Fuel-Type</th>\n",
       "      <th>Aspiration</th>\n",
       "      <th>Num Doors</th>\n",
       "      <th>Body Style</th>\n",
       "      <th>Drive-Wheels</th>\n",
       "      <th>Engine Location</th>\n",
       "      <th>Wheel Base</th>\n",
       "      <th>...</th>\n",
       "      <th>Engine Size</th>\n",
       "      <th>Fuel System</th>\n",
       "      <th>Bore</th>\n",
       "      <th>Stroke</th>\n",
       "      <th>Compression-Ratio</th>\n",
       "      <th>Horsepower</th>\n",
       "      <th>Peak-RPM</th>\n",
       "      <th>City-MPG</th>\n",
       "      <th>Highway-MPG</th>\n",
       "      <th>Price</th>\n",
       "    </tr>\n",
       "  </thead>\n",
       "  <tbody>\n",
       "    <tr>\n",
       "      <th>0</th>\n",
       "      <td>3</td>\n",
       "      <td>?</td>\n",
       "      <td>alfa-romero</td>\n",
       "      <td>gas</td>\n",
       "      <td>std</td>\n",
       "      <td>two</td>\n",
       "      <td>convertible</td>\n",
       "      <td>rwd</td>\n",
       "      <td>front</td>\n",
       "      <td>88.6</td>\n",
       "      <td>...</td>\n",
       "      <td>130</td>\n",
       "      <td>mpfi</td>\n",
       "      <td>3.47</td>\n",
       "      <td>2.68</td>\n",
       "      <td>9.0</td>\n",
       "      <td>111</td>\n",
       "      <td>5000</td>\n",
       "      <td>21</td>\n",
       "      <td>27</td>\n",
       "      <td>13495</td>\n",
       "    </tr>\n",
       "    <tr>\n",
       "      <th>1</th>\n",
       "      <td>3</td>\n",
       "      <td>?</td>\n",
       "      <td>alfa-romero</td>\n",
       "      <td>gas</td>\n",
       "      <td>std</td>\n",
       "      <td>two</td>\n",
       "      <td>convertible</td>\n",
       "      <td>rwd</td>\n",
       "      <td>front</td>\n",
       "      <td>88.6</td>\n",
       "      <td>...</td>\n",
       "      <td>130</td>\n",
       "      <td>mpfi</td>\n",
       "      <td>3.47</td>\n",
       "      <td>2.68</td>\n",
       "      <td>9.0</td>\n",
       "      <td>111</td>\n",
       "      <td>5000</td>\n",
       "      <td>21</td>\n",
       "      <td>27</td>\n",
       "      <td>16500</td>\n",
       "    </tr>\n",
       "    <tr>\n",
       "      <th>2</th>\n",
       "      <td>1</td>\n",
       "      <td>?</td>\n",
       "      <td>alfa-romero</td>\n",
       "      <td>gas</td>\n",
       "      <td>std</td>\n",
       "      <td>two</td>\n",
       "      <td>hatchback</td>\n",
       "      <td>rwd</td>\n",
       "      <td>front</td>\n",
       "      <td>94.5</td>\n",
       "      <td>...</td>\n",
       "      <td>152</td>\n",
       "      <td>mpfi</td>\n",
       "      <td>2.68</td>\n",
       "      <td>3.47</td>\n",
       "      <td>9.0</td>\n",
       "      <td>154</td>\n",
       "      <td>5000</td>\n",
       "      <td>19</td>\n",
       "      <td>26</td>\n",
       "      <td>16500</td>\n",
       "    </tr>\n",
       "    <tr>\n",
       "      <th>3</th>\n",
       "      <td>2</td>\n",
       "      <td>164</td>\n",
       "      <td>audi</td>\n",
       "      <td>gas</td>\n",
       "      <td>std</td>\n",
       "      <td>four</td>\n",
       "      <td>sedan</td>\n",
       "      <td>fwd</td>\n",
       "      <td>front</td>\n",
       "      <td>99.8</td>\n",
       "      <td>...</td>\n",
       "      <td>109</td>\n",
       "      <td>mpfi</td>\n",
       "      <td>3.19</td>\n",
       "      <td>3.40</td>\n",
       "      <td>10.0</td>\n",
       "      <td>102</td>\n",
       "      <td>5500</td>\n",
       "      <td>24</td>\n",
       "      <td>30</td>\n",
       "      <td>13950</td>\n",
       "    </tr>\n",
       "    <tr>\n",
       "      <th>4</th>\n",
       "      <td>2</td>\n",
       "      <td>164</td>\n",
       "      <td>audi</td>\n",
       "      <td>gas</td>\n",
       "      <td>std</td>\n",
       "      <td>four</td>\n",
       "      <td>sedan</td>\n",
       "      <td>4wd</td>\n",
       "      <td>front</td>\n",
       "      <td>99.4</td>\n",
       "      <td>...</td>\n",
       "      <td>136</td>\n",
       "      <td>mpfi</td>\n",
       "      <td>3.19</td>\n",
       "      <td>3.40</td>\n",
       "      <td>8.0</td>\n",
       "      <td>115</td>\n",
       "      <td>5500</td>\n",
       "      <td>18</td>\n",
       "      <td>22</td>\n",
       "      <td>17450</td>\n",
       "    </tr>\n",
       "  </tbody>\n",
       "</table>\n",
       "<p>5 rows × 26 columns</p>\n",
       "</div>"
      ],
      "text/plain": [
       "   Symbol Normalized Loss         Make Fuel-Type Aspiration Num Doors  \\\n",
       "0       3               ?  alfa-romero       gas        std       two   \n",
       "1       3               ?  alfa-romero       gas        std       two   \n",
       "2       1               ?  alfa-romero       gas        std       two   \n",
       "3       2             164         audi       gas        std      four   \n",
       "4       2             164         audi       gas        std      four   \n",
       "\n",
       "    Body Style Drive-Wheels Engine Location  Wheel Base  ...  Engine Size  \\\n",
       "0  convertible          rwd           front        88.6  ...          130   \n",
       "1  convertible          rwd           front        88.6  ...          130   \n",
       "2    hatchback          rwd           front        94.5  ...          152   \n",
       "3        sedan          fwd           front        99.8  ...          109   \n",
       "4        sedan          4wd           front        99.4  ...          136   \n",
       "\n",
       "   Fuel System  Bore  Stroke Compression-Ratio Horsepower  Peak-RPM City-MPG  \\\n",
       "0         mpfi  3.47    2.68               9.0        111      5000       21   \n",
       "1         mpfi  3.47    2.68               9.0        111      5000       21   \n",
       "2         mpfi  2.68    3.47               9.0        154      5000       19   \n",
       "3         mpfi  3.19    3.40              10.0        102      5500       24   \n",
       "4         mpfi  3.19    3.40               8.0        115      5500       18   \n",
       "\n",
       "  Highway-MPG  Price  \n",
       "0          27  13495  \n",
       "1          27  16500  \n",
       "2          26  16500  \n",
       "3          30  13950  \n",
       "4          22  17450  \n",
       "\n",
       "[5 rows x 26 columns]"
      ]
     },
     "execution_count": 423,
     "metadata": {},
     "output_type": "execute_result"
    }
   ],
   "source": [
    "# assigning column names \n",
    "\n",
    "df.columns = ['Symbol', 'Normalized Loss', 'Make', 'Fuel-Type', 'Aspiration', 'Num Doors', 'Body Style', 'Drive-Wheels', 'Engine Location', 'Wheel Base', 'Length', 'Width', 'Height', 'Curb Weight', 'Engine Type', 'Num-Cylinders', 'Engine Size', 'Fuel System', 'Bore', 'Stroke', 'Compression-Ratio', 'Horsepower', 'Peak-RPM', 'City-MPG', 'Highway-MPG', 'Price']\n",
    "\n",
    "# print size of the data set\n",
    "print(df.shape)\n",
    "\n",
    "# print head again to see if column names are properly applied\n",
    "df.head()"
   ]
  },
  {
   "cell_type": "markdown",
   "metadata": {},
   "source": [
    "## Section 2: Exploratory Data Analysis (EDA)"
   ]
  },
  {
   "cell_type": "markdown",
   "metadata": {},
   "source": [
    "In this section we will be conducting data summary on the number of use cases. The data set contains 205 rows, which means that there will be 205 use cases for the analysis and also for each of the attributes, unless there are any invalid or missing values. We will be finding out any NaN values, zeroes, missing values or errors and take appropriate actions depending on the nature of the attribute. We might aswell create different subset of data, which will help us analyze them in a way that serves the purpose of this project."
   ]
  },
  {
   "cell_type": "code",
   "execution_count": 424,
   "metadata": {},
   "outputs": [
    {
     "name": "stdout",
     "output_type": "stream",
     "text": [
      "<class 'pandas.core.frame.DataFrame'>\n",
      "RangeIndex: 205 entries, 0 to 204\n",
      "Data columns (total 26 columns):\n",
      " #   Column             Non-Null Count  Dtype  \n",
      "---  ------             --------------  -----  \n",
      " 0   Symbol             205 non-null    int64  \n",
      " 1   Normalized Loss    205 non-null    object \n",
      " 2   Make               205 non-null    object \n",
      " 3   Fuel-Type          205 non-null    object \n",
      " 4   Aspiration         205 non-null    object \n",
      " 5   Num Doors          205 non-null    object \n",
      " 6   Body Style         205 non-null    object \n",
      " 7   Drive-Wheels       205 non-null    object \n",
      " 8   Engine Location    205 non-null    object \n",
      " 9   Wheel Base         205 non-null    float64\n",
      " 10  Length             205 non-null    float64\n",
      " 11  Width              205 non-null    float64\n",
      " 12  Height             205 non-null    float64\n",
      " 13  Curb Weight        205 non-null    int64  \n",
      " 14  Engine Type        205 non-null    object \n",
      " 15  Num-Cylinders      205 non-null    object \n",
      " 16  Engine Size        205 non-null    int64  \n",
      " 17  Fuel System        205 non-null    object \n",
      " 18  Bore               205 non-null    object \n",
      " 19  Stroke             205 non-null    object \n",
      " 20  Compression-Ratio  205 non-null    float64\n",
      " 21  Horsepower         205 non-null    object \n",
      " 22  Peak-RPM           205 non-null    object \n",
      " 23  City-MPG           205 non-null    int64  \n",
      " 24  Highway-MPG        205 non-null    int64  \n",
      " 25  Price              205 non-null    object \n",
      "dtypes: float64(5), int64(5), object(16)\n",
      "memory usage: 41.8+ KB\n"
     ]
    }
   ],
   "source": [
    "# generating a general information of data set, along with the \n",
    "# information about data type of each columns\n",
    "\n",
    "df.info()\n"
   ]
  },
  {
   "cell_type": "markdown",
   "metadata": {},
   "source": [
    "This general information is useful to check if all the data types are what we expect them to be. In case we need to make some changes, we can do so before we move on to analyze those data. "
   ]
  },
  {
   "cell_type": "code",
   "execution_count": 425,
   "metadata": {},
   "outputs": [
    {
     "data": {
      "text/html": [
       "<div>\n",
       "<style scoped>\n",
       "    .dataframe tbody tr th:only-of-type {\n",
       "        vertical-align: middle;\n",
       "    }\n",
       "\n",
       "    .dataframe tbody tr th {\n",
       "        vertical-align: top;\n",
       "    }\n",
       "\n",
       "    .dataframe thead th {\n",
       "        text-align: right;\n",
       "    }\n",
       "</style>\n",
       "<table border=\"1\" class=\"dataframe\">\n",
       "  <thead>\n",
       "    <tr style=\"text-align: right;\">\n",
       "      <th></th>\n",
       "      <th>Symbol</th>\n",
       "      <th>Wheel Base</th>\n",
       "      <th>Length</th>\n",
       "      <th>Width</th>\n",
       "      <th>Height</th>\n",
       "      <th>Curb Weight</th>\n",
       "      <th>Engine Size</th>\n",
       "      <th>Compression-Ratio</th>\n",
       "      <th>City-MPG</th>\n",
       "      <th>Highway-MPG</th>\n",
       "    </tr>\n",
       "  </thead>\n",
       "  <tbody>\n",
       "    <tr>\n",
       "      <th>count</th>\n",
       "      <td>205.000000</td>\n",
       "      <td>205.000000</td>\n",
       "      <td>205.000000</td>\n",
       "      <td>205.000000</td>\n",
       "      <td>205.000000</td>\n",
       "      <td>205.000000</td>\n",
       "      <td>205.000000</td>\n",
       "      <td>205.000000</td>\n",
       "      <td>205.000000</td>\n",
       "      <td>205.000000</td>\n",
       "    </tr>\n",
       "    <tr>\n",
       "      <th>mean</th>\n",
       "      <td>0.834146</td>\n",
       "      <td>98.756585</td>\n",
       "      <td>174.049268</td>\n",
       "      <td>65.907805</td>\n",
       "      <td>53.724878</td>\n",
       "      <td>2555.565854</td>\n",
       "      <td>126.907317</td>\n",
       "      <td>10.142537</td>\n",
       "      <td>25.219512</td>\n",
       "      <td>30.751220</td>\n",
       "    </tr>\n",
       "    <tr>\n",
       "      <th>std</th>\n",
       "      <td>1.245307</td>\n",
       "      <td>6.021776</td>\n",
       "      <td>12.337289</td>\n",
       "      <td>2.145204</td>\n",
       "      <td>2.443522</td>\n",
       "      <td>520.680204</td>\n",
       "      <td>41.642693</td>\n",
       "      <td>3.972040</td>\n",
       "      <td>6.542142</td>\n",
       "      <td>6.886443</td>\n",
       "    </tr>\n",
       "    <tr>\n",
       "      <th>min</th>\n",
       "      <td>-2.000000</td>\n",
       "      <td>86.600000</td>\n",
       "      <td>141.100000</td>\n",
       "      <td>60.300000</td>\n",
       "      <td>47.800000</td>\n",
       "      <td>1488.000000</td>\n",
       "      <td>61.000000</td>\n",
       "      <td>7.000000</td>\n",
       "      <td>13.000000</td>\n",
       "      <td>16.000000</td>\n",
       "    </tr>\n",
       "    <tr>\n",
       "      <th>25%</th>\n",
       "      <td>0.000000</td>\n",
       "      <td>94.500000</td>\n",
       "      <td>166.300000</td>\n",
       "      <td>64.100000</td>\n",
       "      <td>52.000000</td>\n",
       "      <td>2145.000000</td>\n",
       "      <td>97.000000</td>\n",
       "      <td>8.600000</td>\n",
       "      <td>19.000000</td>\n",
       "      <td>25.000000</td>\n",
       "    </tr>\n",
       "    <tr>\n",
       "      <th>50%</th>\n",
       "      <td>1.000000</td>\n",
       "      <td>97.000000</td>\n",
       "      <td>173.200000</td>\n",
       "      <td>65.500000</td>\n",
       "      <td>54.100000</td>\n",
       "      <td>2414.000000</td>\n",
       "      <td>120.000000</td>\n",
       "      <td>9.000000</td>\n",
       "      <td>24.000000</td>\n",
       "      <td>30.000000</td>\n",
       "    </tr>\n",
       "    <tr>\n",
       "      <th>75%</th>\n",
       "      <td>2.000000</td>\n",
       "      <td>102.400000</td>\n",
       "      <td>183.100000</td>\n",
       "      <td>66.900000</td>\n",
       "      <td>55.500000</td>\n",
       "      <td>2935.000000</td>\n",
       "      <td>141.000000</td>\n",
       "      <td>9.400000</td>\n",
       "      <td>30.000000</td>\n",
       "      <td>34.000000</td>\n",
       "    </tr>\n",
       "    <tr>\n",
       "      <th>max</th>\n",
       "      <td>3.000000</td>\n",
       "      <td>120.900000</td>\n",
       "      <td>208.100000</td>\n",
       "      <td>72.300000</td>\n",
       "      <td>59.800000</td>\n",
       "      <td>4066.000000</td>\n",
       "      <td>326.000000</td>\n",
       "      <td>23.000000</td>\n",
       "      <td>49.000000</td>\n",
       "      <td>54.000000</td>\n",
       "    </tr>\n",
       "  </tbody>\n",
       "</table>\n",
       "</div>"
      ],
      "text/plain": [
       "           Symbol  Wheel Base      Length       Width      Height  \\\n",
       "count  205.000000  205.000000  205.000000  205.000000  205.000000   \n",
       "mean     0.834146   98.756585  174.049268   65.907805   53.724878   \n",
       "std      1.245307    6.021776   12.337289    2.145204    2.443522   \n",
       "min     -2.000000   86.600000  141.100000   60.300000   47.800000   \n",
       "25%      0.000000   94.500000  166.300000   64.100000   52.000000   \n",
       "50%      1.000000   97.000000  173.200000   65.500000   54.100000   \n",
       "75%      2.000000  102.400000  183.100000   66.900000   55.500000   \n",
       "max      3.000000  120.900000  208.100000   72.300000   59.800000   \n",
       "\n",
       "       Curb Weight  Engine Size  Compression-Ratio    City-MPG  Highway-MPG  \n",
       "count   205.000000   205.000000         205.000000  205.000000   205.000000  \n",
       "mean   2555.565854   126.907317          10.142537   25.219512    30.751220  \n",
       "std     520.680204    41.642693           3.972040    6.542142     6.886443  \n",
       "min    1488.000000    61.000000           7.000000   13.000000    16.000000  \n",
       "25%    2145.000000    97.000000           8.600000   19.000000    25.000000  \n",
       "50%    2414.000000   120.000000           9.000000   24.000000    30.000000  \n",
       "75%    2935.000000   141.000000           9.400000   30.000000    34.000000  \n",
       "max    4066.000000   326.000000          23.000000   49.000000    54.000000  "
      ]
     },
     "execution_count": 425,
     "metadata": {},
     "output_type": "execute_result"
    }
   ],
   "source": [
    "df.describe()"
   ]
  },
  {
   "cell_type": "markdown",
   "metadata": {},
   "source": [
    "This is a preliminary analysis of the given data set that is generated before analyzing any factors within the dataset. We have not checked for any NaNs, empty fields, Nulls, wrong entries, and outliers at this point.\n",
    "\n",
    "Summary statistics includes only the numerical variables. None of the values are negative, which is a positive side, besides the Symbol which is meant to have negative value. The median values are higher than the mean values on Symbol and Height. Since median value are higher than the mean values, this tells us that the distribution are left skewed. For WHeel Base, Length, Width, Curb Weight, Engine Size, Compression Ratio, City-MPG, Highway-MPG, the median values are less than the mean values, making the distribution right skewed. We will further analyze the summary when we have created the subset of the original data. \n",
    "\n",
    "The general information we obtain from the entire data set may not be as relevent to us. Because, we are interested in features or the attributes that may impact automobile gas mileage, the above generated general description may or may allign with our information need and analytics. \n",
    "\n",
    "Which is why, we are going to create a subset of the original dataset as we have identified in the section 1 of this project, assuming that these features will give us more precious answers to our automobile gas mileage query. "
   ]
  },
  {
   "cell_type": "markdown",
   "metadata": {},
   "source": [
    "### Creating Subset of the Original Data "
   ]
  },
  {
   "cell_type": "markdown",
   "metadata": {},
   "source": [
    "We will be using the attributes that we slice from the original data, and use them to further analyze.  "
   ]
  },
  {
   "cell_type": "code",
   "execution_count": 204,
   "metadata": {},
   "outputs": [
    {
     "data": {
      "text/html": [
       "<div>\n",
       "<style scoped>\n",
       "    .dataframe tbody tr th:only-of-type {\n",
       "        vertical-align: middle;\n",
       "    }\n",
       "\n",
       "    .dataframe tbody tr th {\n",
       "        vertical-align: top;\n",
       "    }\n",
       "\n",
       "    .dataframe thead th {\n",
       "        text-align: right;\n",
       "    }\n",
       "</style>\n",
       "<table border=\"1\" class=\"dataframe\">\n",
       "  <thead>\n",
       "    <tr style=\"text-align: right;\">\n",
       "      <th></th>\n",
       "      <th>Make</th>\n",
       "      <th>Fuel-Type</th>\n",
       "      <th>Aspiration</th>\n",
       "      <th>Drive-Wheels</th>\n",
       "      <th>Curb Weight</th>\n",
       "      <th>Engine Type</th>\n",
       "      <th>Num-Cylinders</th>\n",
       "      <th>Engine Size</th>\n",
       "      <th>Horsepower</th>\n",
       "      <th>City-MPG</th>\n",
       "      <th>Highway-MPG</th>\n",
       "    </tr>\n",
       "  </thead>\n",
       "  <tbody>\n",
       "    <tr>\n",
       "      <th>0</th>\n",
       "      <td>alfa-romero</td>\n",
       "      <td>gas</td>\n",
       "      <td>std</td>\n",
       "      <td>rwd</td>\n",
       "      <td>2548</td>\n",
       "      <td>dohc</td>\n",
       "      <td>four</td>\n",
       "      <td>130</td>\n",
       "      <td>111</td>\n",
       "      <td>21</td>\n",
       "      <td>27</td>\n",
       "    </tr>\n",
       "    <tr>\n",
       "      <th>1</th>\n",
       "      <td>alfa-romero</td>\n",
       "      <td>gas</td>\n",
       "      <td>std</td>\n",
       "      <td>rwd</td>\n",
       "      <td>2548</td>\n",
       "      <td>dohc</td>\n",
       "      <td>four</td>\n",
       "      <td>130</td>\n",
       "      <td>111</td>\n",
       "      <td>21</td>\n",
       "      <td>27</td>\n",
       "    </tr>\n",
       "    <tr>\n",
       "      <th>2</th>\n",
       "      <td>alfa-romero</td>\n",
       "      <td>gas</td>\n",
       "      <td>std</td>\n",
       "      <td>rwd</td>\n",
       "      <td>2823</td>\n",
       "      <td>ohcv</td>\n",
       "      <td>six</td>\n",
       "      <td>152</td>\n",
       "      <td>154</td>\n",
       "      <td>19</td>\n",
       "      <td>26</td>\n",
       "    </tr>\n",
       "    <tr>\n",
       "      <th>3</th>\n",
       "      <td>audi</td>\n",
       "      <td>gas</td>\n",
       "      <td>std</td>\n",
       "      <td>fwd</td>\n",
       "      <td>2337</td>\n",
       "      <td>ohc</td>\n",
       "      <td>four</td>\n",
       "      <td>109</td>\n",
       "      <td>102</td>\n",
       "      <td>24</td>\n",
       "      <td>30</td>\n",
       "    </tr>\n",
       "    <tr>\n",
       "      <th>4</th>\n",
       "      <td>audi</td>\n",
       "      <td>gas</td>\n",
       "      <td>std</td>\n",
       "      <td>4wd</td>\n",
       "      <td>2824</td>\n",
       "      <td>ohc</td>\n",
       "      <td>five</td>\n",
       "      <td>136</td>\n",
       "      <td>115</td>\n",
       "      <td>18</td>\n",
       "      <td>22</td>\n",
       "    </tr>\n",
       "  </tbody>\n",
       "</table>\n",
       "</div>"
      ],
      "text/plain": [
       "          Make Fuel-Type Aspiration Drive-Wheels  Curb Weight Engine Type  \\\n",
       "0  alfa-romero       gas        std          rwd         2548        dohc   \n",
       "1  alfa-romero       gas        std          rwd         2548        dohc   \n",
       "2  alfa-romero       gas        std          rwd         2823        ohcv   \n",
       "3         audi       gas        std          fwd         2337         ohc   \n",
       "4         audi       gas        std          4wd         2824         ohc   \n",
       "\n",
       "  Num-Cylinders  Engine Size Horsepower  City-MPG  Highway-MPG  \n",
       "0          four          130        111        21           27  \n",
       "1          four          130        111        21           27  \n",
       "2           six          152        154        19           26  \n",
       "3          four          109        102        24           30  \n",
       "4          five          136        115        18           22  "
      ]
     },
     "execution_count": 204,
     "metadata": {},
     "output_type": "execute_result"
    }
   ],
   "source": [
    "# subset of columns that we will be using\n",
    "new_df = df[['Make', 'Fuel-Type', 'Aspiration', 'Drive-Wheels', 'Curb Weight', 'Engine Type', 'Num-Cylinders', 'Engine Size', 'Horsepower', 'City-MPG', 'Highway-MPG']]\n",
    "new_df.head()"
   ]
  },
  {
   "cell_type": "markdown",
   "metadata": {},
   "source": [
    "It is important to check the data types of each of these variables, to make sure that we have the right data type and correct them if necessary. "
   ]
  },
  {
   "cell_type": "markdown",
   "metadata": {},
   "source": [
    "### Checking for Nulls and Data Types"
   ]
  },
  {
   "cell_type": "code",
   "execution_count": 116,
   "metadata": {},
   "outputs": [
    {
     "data": {
      "text/plain": [
       "Index([], dtype='object')"
      ]
     },
     "execution_count": 116,
     "metadata": {},
     "output_type": "execute_result"
    }
   ],
   "source": [
    "# checking for null values\n",
    "\n",
    "new_df.columns[new_df.isnull().any()]\n"
   ]
  },
  {
   "cell_type": "code",
   "execution_count": 117,
   "metadata": {},
   "outputs": [
    {
     "name": "stdout",
     "output_type": "stream",
     "text": [
      "<class 'pandas.core.frame.DataFrame'>\n",
      "RangeIndex: 205 entries, 0 to 204\n",
      "Data columns (total 11 columns):\n",
      " #   Column         Non-Null Count  Dtype \n",
      "---  ------         --------------  ----- \n",
      " 0   Make           205 non-null    object\n",
      " 1   Fuel-Type      205 non-null    object\n",
      " 2   Aspiration     205 non-null    object\n",
      " 3   Drive-Wheels   205 non-null    object\n",
      " 4   Curb Weight    205 non-null    int64 \n",
      " 5   Engine Type    205 non-null    object\n",
      " 6   Num-Cylinders  205 non-null    object\n",
      " 7   Engine Size    205 non-null    int64 \n",
      " 8   Horsepower     205 non-null    object\n",
      " 9   City-MPG       205 non-null    int64 \n",
      " 10  Highway-MPG    205 non-null    int64 \n",
      "dtypes: int64(4), object(7)\n",
      "memory usage: 17.7+ KB\n"
     ]
    }
   ],
   "source": [
    "new_df.info()"
   ]
  },
  {
   "cell_type": "markdown",
   "metadata": {},
   "source": [
    "Looking at the data type for Horsepower, the information indicates it as an object. But, Horsepower should really be an integer. We will now convert this column into a numerical value. \n",
    "\n",
    "Before trying to change the values to integer, first make sure that there are not any non numeric values using following code. "
   ]
  },
  {
   "cell_type": "markdown",
   "metadata": {},
   "source": [
    "### Checking for Unique Values"
   ]
  },
  {
   "cell_type": "code",
   "execution_count": 118,
   "metadata": {},
   "outputs": [
    {
     "data": {
      "text/plain": [
       "array(['111', '154', '102', '115', '110', '140', '160', '101', '121',\n",
       "       '182', '48', '70', '68', '88', '145', '58', '76', '60', '86',\n",
       "       '100', '78', '90', '176', '262', '135', '84', '64', '120', '72',\n",
       "       '123', '155', '184', '175', '116', '69', '55', '97', '152', '200',\n",
       "       '95', '142', '143', '207', '288', '?', '73', '82', '94', '62',\n",
       "       '56', '112', '92', '161', '156', '52', '85', '114', '162', '134',\n",
       "       '106'], dtype=object)"
      ]
     },
     "execution_count": 118,
     "metadata": {},
     "output_type": "execute_result"
    }
   ],
   "source": [
    "new_df['Horsepower'].unique()"
   ]
  },
  {
   "cell_type": "markdown",
   "metadata": {},
   "source": [
    "### Handling \"?\" in Column \"Horsepower\""
   ]
  },
  {
   "cell_type": "markdown",
   "metadata": {},
   "source": [
    "As we can see, there is a \"?\" value that should not be there. Lets now find the index of that value and look for imputation options to either drop the row or to replace the value."
   ]
  },
  {
   "cell_type": "code",
   "execution_count": 119,
   "metadata": {},
   "outputs": [
    {
     "data": {
      "text/html": [
       "<div>\n",
       "<style scoped>\n",
       "    .dataframe tbody tr th:only-of-type {\n",
       "        vertical-align: middle;\n",
       "    }\n",
       "\n",
       "    .dataframe tbody tr th {\n",
       "        vertical-align: top;\n",
       "    }\n",
       "\n",
       "    .dataframe thead th {\n",
       "        text-align: right;\n",
       "    }\n",
       "</style>\n",
       "<table border=\"1\" class=\"dataframe\">\n",
       "  <thead>\n",
       "    <tr style=\"text-align: right;\">\n",
       "      <th></th>\n",
       "      <th>Make</th>\n",
       "      <th>Fuel-Type</th>\n",
       "      <th>Aspiration</th>\n",
       "      <th>Drive-Wheels</th>\n",
       "      <th>Curb Weight</th>\n",
       "      <th>Engine Type</th>\n",
       "      <th>Num-Cylinders</th>\n",
       "      <th>Engine Size</th>\n",
       "      <th>Horsepower</th>\n",
       "      <th>City-MPG</th>\n",
       "      <th>Highway-MPG</th>\n",
       "    </tr>\n",
       "  </thead>\n",
       "  <tbody>\n",
       "    <tr>\n",
       "      <th>130</th>\n",
       "      <td>renault</td>\n",
       "      <td>gas</td>\n",
       "      <td>std</td>\n",
       "      <td>fwd</td>\n",
       "      <td>2579</td>\n",
       "      <td>ohc</td>\n",
       "      <td>four</td>\n",
       "      <td>132</td>\n",
       "      <td>?</td>\n",
       "      <td>23</td>\n",
       "      <td>31</td>\n",
       "    </tr>\n",
       "    <tr>\n",
       "      <th>131</th>\n",
       "      <td>renault</td>\n",
       "      <td>gas</td>\n",
       "      <td>std</td>\n",
       "      <td>fwd</td>\n",
       "      <td>2460</td>\n",
       "      <td>ohc</td>\n",
       "      <td>four</td>\n",
       "      <td>132</td>\n",
       "      <td>?</td>\n",
       "      <td>23</td>\n",
       "      <td>31</td>\n",
       "    </tr>\n",
       "  </tbody>\n",
       "</table>\n",
       "</div>"
      ],
      "text/plain": [
       "        Make Fuel-Type Aspiration Drive-Wheels  Curb Weight Engine Type  \\\n",
       "130  renault       gas        std          fwd         2579         ohc   \n",
       "131  renault       gas        std          fwd         2460         ohc   \n",
       "\n",
       "    Num-Cylinders  Engine Size Horsepower  City-MPG  Highway-MPG  \n",
       "130          four          132          ?        23           31  \n",
       "131          four          132          ?        23           31  "
      ]
     },
     "execution_count": 119,
     "metadata": {},
     "output_type": "execute_result"
    }
   ],
   "source": [
    "# locating the index of '?' character \n",
    "\n",
    "new_df.loc[new_df['Horsepower']=='?']\n",
    "\n",
    "# next method to do the same\n",
    "# new_df.index[(new_df['Horsepower'] == '?')]\n"
   ]
  },
  {
   "cell_type": "code",
   "execution_count": 120,
   "metadata": {},
   "outputs": [],
   "source": [
    "# removing the rows with \"?\" in Horsepower\n",
    "\n",
    "new_df = new_df.loc[~(new_df['Horsepower'] == '?')]"
   ]
  },
  {
   "cell_type": "code",
   "execution_count": 121,
   "metadata": {},
   "outputs": [
    {
     "data": {
      "text/html": [
       "<div>\n",
       "<style scoped>\n",
       "    .dataframe tbody tr th:only-of-type {\n",
       "        vertical-align: middle;\n",
       "    }\n",
       "\n",
       "    .dataframe tbody tr th {\n",
       "        vertical-align: top;\n",
       "    }\n",
       "\n",
       "    .dataframe thead th {\n",
       "        text-align: right;\n",
       "    }\n",
       "</style>\n",
       "<table border=\"1\" class=\"dataframe\">\n",
       "  <thead>\n",
       "    <tr style=\"text-align: right;\">\n",
       "      <th></th>\n",
       "      <th>Make</th>\n",
       "      <th>Fuel-Type</th>\n",
       "      <th>Aspiration</th>\n",
       "      <th>Drive-Wheels</th>\n",
       "      <th>Curb Weight</th>\n",
       "      <th>Engine Type</th>\n",
       "      <th>Num-Cylinders</th>\n",
       "      <th>Engine Size</th>\n",
       "      <th>Horsepower</th>\n",
       "      <th>City-MPG</th>\n",
       "      <th>Highway-MPG</th>\n",
       "    </tr>\n",
       "  </thead>\n",
       "  <tbody>\n",
       "  </tbody>\n",
       "</table>\n",
       "</div>"
      ],
      "text/plain": [
       "Empty DataFrame\n",
       "Columns: [Make, Fuel-Type, Aspiration, Drive-Wheels, Curb Weight, Engine Type, Num-Cylinders, Engine Size, Horsepower, City-MPG, Highway-MPG]\n",
       "Index: []"
      ]
     },
     "execution_count": 121,
     "metadata": {},
     "output_type": "execute_result"
    }
   ],
   "source": [
    "new_df.loc[new_df['Horsepower']=='?']"
   ]
  },
  {
   "cell_type": "markdown",
   "metadata": {},
   "source": [
    "The rows with '?' has been removed, now we can proceed to convert the 'Horsepower' column to integer. "
   ]
  },
  {
   "cell_type": "code",
   "execution_count": 122,
   "metadata": {},
   "outputs": [],
   "source": [
    "# converting the column Horsepower into numeric\n",
    "new_df['Horsepower'] = pd.to_numeric(new_df['Horsepower'])"
   ]
  },
  {
   "cell_type": "code",
   "execution_count": 123,
   "metadata": {},
   "outputs": [
    {
     "name": "stdout",
     "output_type": "stream",
     "text": [
      "Make:\n",
      "['alfa-romero' 'audi' 'bmw' 'chevrolet' 'dodge' 'honda' 'isuzu' 'jaguar'\n",
      " 'mazda' 'mercedes-benz' 'mercury' 'mitsubishi' 'nissan' 'peugot'\n",
      " 'plymouth' 'porsche' 'saab' 'subaru' 'toyota' 'volkswagen' 'volvo']\n",
      "\n",
      "Fuel-Type:\n",
      "['gas' 'diesel']\n",
      "\n",
      "Aspiration:\n",
      "['std' 'turbo']\n",
      "\n",
      "Drive-Wheels:\n",
      "['rwd' 'fwd' '4wd']\n",
      "\n",
      "Engine Type:\n",
      "['dohc' 'ohcv' 'ohc' 'l' 'rotor' 'ohcf' 'dohcv']\n",
      "\n",
      "Num-Cylinders:\n",
      "['four' 'six' 'five' 'three' 'twelve' 'two' 'eight']\n",
      "\n"
     ]
    }
   ],
   "source": [
    "#check each categorical value\n",
    "# code from professor\n",
    "\n",
    "vals = new_df[['Make', 'Fuel-Type', 'Aspiration', 'Drive-Wheels', 'Engine Type', 'Num-Cylinders' ]].copy()\n",
    "for x in range(len(vals.columns)):\n",
    "    print(vals.columns[x] + \":\")\n",
    "    print(vals[vals.columns[x]].unique())\n",
    "    print(\"\")\n",
    "\n",
    "\n",
    "# to check individualy, as follows\n",
    "# new_df['Highway-MPG'].unique()    "
   ]
  },
  {
   "cell_type": "markdown",
   "metadata": {},
   "source": [
    "### Run Descriptive Statistics for \"new_df\""
   ]
  },
  {
   "cell_type": "code",
   "execution_count": 124,
   "metadata": {},
   "outputs": [
    {
     "data": {
      "text/html": [
       "<div>\n",
       "<style scoped>\n",
       "    .dataframe tbody tr th:only-of-type {\n",
       "        vertical-align: middle;\n",
       "    }\n",
       "\n",
       "    .dataframe tbody tr th {\n",
       "        vertical-align: top;\n",
       "    }\n",
       "\n",
       "    .dataframe thead th {\n",
       "        text-align: right;\n",
       "    }\n",
       "</style>\n",
       "<table border=\"1\" class=\"dataframe\">\n",
       "  <thead>\n",
       "    <tr style=\"text-align: right;\">\n",
       "      <th></th>\n",
       "      <th>Curb Weight</th>\n",
       "      <th>Engine Size</th>\n",
       "      <th>Horsepower</th>\n",
       "      <th>City-MPG</th>\n",
       "      <th>Highway-MPG</th>\n",
       "    </tr>\n",
       "  </thead>\n",
       "  <tbody>\n",
       "    <tr>\n",
       "      <th>count</th>\n",
       "      <td>203.000000</td>\n",
       "      <td>203.000000</td>\n",
       "      <td>203.000000</td>\n",
       "      <td>203.000000</td>\n",
       "      <td>203.000000</td>\n",
       "    </tr>\n",
       "    <tr>\n",
       "      <th>mean</th>\n",
       "      <td>2555.921182</td>\n",
       "      <td>126.857143</td>\n",
       "      <td>104.256158</td>\n",
       "      <td>25.241379</td>\n",
       "      <td>30.748768</td>\n",
       "    </tr>\n",
       "    <tr>\n",
       "      <th>std</th>\n",
       "      <td>523.205555</td>\n",
       "      <td>41.845239</td>\n",
       "      <td>39.714369</td>\n",
       "      <td>6.570702</td>\n",
       "      <td>6.920406</td>\n",
       "    </tr>\n",
       "    <tr>\n",
       "      <th>min</th>\n",
       "      <td>1488.000000</td>\n",
       "      <td>61.000000</td>\n",
       "      <td>48.000000</td>\n",
       "      <td>13.000000</td>\n",
       "      <td>16.000000</td>\n",
       "    </tr>\n",
       "    <tr>\n",
       "      <th>25%</th>\n",
       "      <td>2145.000000</td>\n",
       "      <td>97.000000</td>\n",
       "      <td>70.000000</td>\n",
       "      <td>19.000000</td>\n",
       "      <td>25.000000</td>\n",
       "    </tr>\n",
       "    <tr>\n",
       "      <th>50%</th>\n",
       "      <td>2414.000000</td>\n",
       "      <td>119.000000</td>\n",
       "      <td>95.000000</td>\n",
       "      <td>24.000000</td>\n",
       "      <td>30.000000</td>\n",
       "    </tr>\n",
       "    <tr>\n",
       "      <th>75%</th>\n",
       "      <td>2943.500000</td>\n",
       "      <td>143.000000</td>\n",
       "      <td>116.000000</td>\n",
       "      <td>30.000000</td>\n",
       "      <td>35.000000</td>\n",
       "    </tr>\n",
       "    <tr>\n",
       "      <th>max</th>\n",
       "      <td>4066.000000</td>\n",
       "      <td>326.000000</td>\n",
       "      <td>288.000000</td>\n",
       "      <td>49.000000</td>\n",
       "      <td>54.000000</td>\n",
       "    </tr>\n",
       "  </tbody>\n",
       "</table>\n",
       "</div>"
      ],
      "text/plain": [
       "       Curb Weight  Engine Size  Horsepower    City-MPG  Highway-MPG\n",
       "count   203.000000   203.000000  203.000000  203.000000   203.000000\n",
       "mean   2555.921182   126.857143  104.256158   25.241379    30.748768\n",
       "std     523.205555    41.845239   39.714369    6.570702     6.920406\n",
       "min    1488.000000    61.000000   48.000000   13.000000    16.000000\n",
       "25%    2145.000000    97.000000   70.000000   19.000000    25.000000\n",
       "50%    2414.000000   119.000000   95.000000   24.000000    30.000000\n",
       "75%    2943.500000   143.000000  116.000000   30.000000    35.000000\n",
       "max    4066.000000   326.000000  288.000000   49.000000    54.000000"
      ]
     },
     "execution_count": 124,
     "metadata": {},
     "output_type": "execute_result"
    }
   ],
   "source": [
    "new_df.describe()"
   ]
  },
  {
   "cell_type": "markdown",
   "metadata": {},
   "source": [
    "Now that we have converted the Horsepower data into integer, it is included in the data summary. This general description shows that as the Horsepower of a car increases the City-MPG as well as Highway-MPG increases. We will further investigate with the help of graphs.  "
   ]
  },
  {
   "cell_type": "markdown",
   "metadata": {},
   "source": [
    "### Graphical Analysis of each Attributes"
   ]
  },
  {
   "cell_type": "markdown",
   "metadata": {},
   "source": [
    "We will be analyzing the data with the help of graphs. Categorical variables such as Make, Fuel Type, Aspiration, Drive Wheels, Engine Type, Number of Cylinders will be analyzed with the use of bar chart. And, the numerical variables such as Curb Weight, Engine Size, HOrsepower, City MPG and Highway MPG will be analyzd with the use of histogram or box plot. "
   ]
  },
  {
   "cell_type": "code",
   "execution_count": null,
   "metadata": {},
   "outputs": [],
   "source": [
    "# Bar Plot Matplotlib and Seaborn for \n",
    "\n",
    "# plt.figure(figsize=(20,5))\n",
    "\n",
    "# plt.subplot(100)\n",
    "\n",
    "# make_count = new_df.groupby('Make').count()['Engine Size']\n",
    "# make_count.plot.bar();\n",
    "\n",
    "# plt.title('Make Bar Chart (Matplotlib)')\n",
    "# plt.xlabel('Make')\n",
    "# plt.ylabel('Engine Size')"
   ]
  },
  {
   "cell_type": "code",
   "execution_count": 176,
   "metadata": {},
   "outputs": [
    {
     "data": {
      "image/png": "[encoded data removed]",
      "text/plain": [
       "<Figure size 432x288 with 1 Axes>"
      ]
     },
     "metadata": {
      "needs_background": "light"
     },
     "output_type": "display_data"
    },
    {
     "data": {
      "image/png": "[encoded data removed]",
      "text/plain": [
       "<Figure size 432x288 with 1 Axes>"
      ]
     },
     "metadata": {
      "needs_background": "light"
     },
     "output_type": "display_data"
    }
   ],
   "source": [
    "# Using Matplotlib Histogram \n",
    "\n",
    "new_df['City-MPG'].hist()\n",
    "plt.show()\n",
    "\n",
    "# Using Seaborn Histogram \n",
    "\n",
    "sns.histplot(data=new_df, x=\"City-MPG\")\n",
    "plt.show()"
   ]
  },
  {
   "cell_type": "code",
   "execution_count": 177,
   "metadata": {},
   "outputs": [
    {
     "data": {
      "image/png": "[encoded data removed]",
      "text/plain": [
       "<Figure size 432x288 with 1 Axes>"
      ]
     },
     "metadata": {
      "needs_background": "light"
     },
     "output_type": "display_data"
    },
    {
     "data": {
      "image/png": "[encoded data removed]",
      "text/plain": [
       "<Figure size 432x288 with 1 Axes>"
      ]
     },
     "metadata": {
      "needs_background": "light"
     },
     "output_type": "display_data"
    }
   ],
   "source": [
    "# Using Matplotlib Histogram \n",
    "\n",
    "new_df['Highway-MPG'].hist()\n",
    "plt.show()\n",
    "\n",
    "# Using Seaborn Histogram \n",
    "\n",
    "sns.histplot(data=new_df, x=\"Highway-MPG\")\n",
    "plt.show()"
   ]
  },
  {
   "cell_type": "code",
   "execution_count": 179,
   "metadata": {},
   "outputs": [
    {
     "data": {
      "image/png": "[encoded data removed]",
      "text/plain": [
       "<Figure size 432x288 with 1 Axes>"
      ]
     },
     "metadata": {
      "needs_background": "light"
     },
     "output_type": "display_data"
    },
    {
     "data": {
      "image/png": "[encoded data removed]",
      "text/plain": [
       "<Figure size 432x288 with 1 Axes>"
      ]
     },
     "metadata": {
      "needs_background": "light"
     },
     "output_type": "display_data"
    }
   ],
   "source": [
    "# Using Matplotlib Histogram \n",
    "\n",
    "new_df['Horsepower'].hist()\n",
    "plt.show()\n",
    "\n",
    "# Using Seaborn Histogram \n",
    "\n",
    "sns.histplot(data=new_df, x=\"Horsepower\")\n",
    "plt.show()"
   ]
  },
  {
   "cell_type": "markdown",
   "metadata": {},
   "source": [
    "Bar plots:"
   ]
  },
  {
   "cell_type": "code",
   "execution_count": 148,
   "metadata": {},
   "outputs": [
    {
     "data": {
      "image/png": "[encoded data removed]",
      "text/plain": [
       "<Figure size 432x288 with 1 Axes>"
      ]
     },
     "metadata": {
      "needs_background": "light"
     },
     "output_type": "display_data"
    }
   ],
   "source": [
    "sns.barplot(x = 'Engine Size', y = 'Horsepower', data = new_df)\n",
    "plt.show()"
   ]
  },
  {
   "cell_type": "code",
   "execution_count": 175,
   "metadata": {},
   "outputs": [
    {
     "data": {
      "image/png": "[encoded data removed]",
      "text/plain": [
       "<Figure size 432x288 with 1 Axes>"
      ]
     },
     "metadata": {
      "needs_background": "light"
     },
     "output_type": "display_data"
    },
    {
     "data": {
      "image/png": "[encoded data removed]",
      "text/plain": [
       "<Figure size 432x288 with 1 Axes>"
      ]
     },
     "metadata": {
      "needs_background": "light"
     },
     "output_type": "display_data"
    }
   ],
   "source": [
    "sns.barplot(x = 'Horsepower', y = 'City-MPG', data = new_df)\n",
    "plt.show()\n",
    "\n",
    "sns.barplot(x = 'Horsepower', y = 'Highway-MPG', data = new_df)\n",
    "plt.show()"
   ]
  },
  {
   "cell_type": "code",
   "execution_count": 174,
   "metadata": {},
   "outputs": [
    {
     "data": {
      "image/png": "[encoded data removed]",
      "text/plain": [
       "<Figure size 432x288 with 1 Axes>"
      ]
     },
     "metadata": {
      "needs_background": "light"
     },
     "output_type": "display_data"
    },
    {
     "data": {
      "image/png": "[encoded data removed]",
      "text/plain": [
       "<Figure size 432x288 with 1 Axes>"
      ]
     },
     "metadata": {
      "needs_background": "light"
     },
     "output_type": "display_data"
    }
   ],
   "source": [
    "sns.barplot(x = 'Engine Size', y = 'City-MPG', data = new_df)\n",
    "plt.show()\n",
    "\n",
    "sns.barplot(x = 'Engine Size', y = 'Highway-MPG', data = new_df)\n",
    "plt.show()"
   ]
  },
  {
   "cell_type": "code",
   "execution_count": 150,
   "metadata": {},
   "outputs": [
    {
     "data": {
      "image/png": "[encoded data removed]",
      "text/plain": [
       "<Figure size 432x288 with 1 Axes>"
      ]
     },
     "metadata": {
      "needs_background": "light"
     },
     "output_type": "display_data"
    }
   ],
   "source": [
    "sns.barplot(x = 'Num-Cylinders', y = 'Horsepower', data = new_df)\n",
    "plt.show()"
   ]
  },
  {
   "cell_type": "code",
   "execution_count": 159,
   "metadata": {},
   "outputs": [
    {
     "data": {
      "image/png": "[encoded data removed]",
      "text/plain": [
       "<Figure size 432x288 with 1 Axes>"
      ]
     },
     "metadata": {
      "needs_background": "light"
     },
     "output_type": "display_data"
    },
    {
     "data": {
      "image/png": "[encoded data removed]",
      "text/plain": [
       "<Figure size 432x288 with 1 Axes>"
      ]
     },
     "metadata": {
      "needs_background": "light"
     },
     "output_type": "display_data"
    }
   ],
   "source": [
    "sns.barplot(x = 'Fuel-Type', y = 'City-MPG', data = new_df)\n",
    "plt.show()\n",
    "\n",
    "sns.barplot(x = 'Fuel-Type', y = 'Highway-MPG', data = new_df)\n",
    "plt.show()"
   ]
  },
  {
   "cell_type": "code",
   "execution_count": 173,
   "metadata": {},
   "outputs": [
    {
     "data": {
      "image/png": "[encoded data removed]",
      "text/plain": [
       "<Figure size 432x288 with 1 Axes>"
      ]
     },
     "metadata": {
      "needs_background": "light"
     },
     "output_type": "display_data"
    },
    {
     "data": {
      "image/png": "[encoded data removed]",
      "text/plain": [
       "<Figure size 432x288 with 1 Axes>"
      ]
     },
     "metadata": {
      "needs_background": "light"
     },
     "output_type": "display_data"
    }
   ],
   "source": [
    "sns.barplot(x = 'Curb Weight', y = 'City-MPG', data = new_df)\n",
    "plt.show()\n",
    "\n",
    "sns.barplot(x = 'Curb Weight', y = 'Highway-MPG', data = new_df)\n",
    "plt.show()"
   ]
  },
  {
   "cell_type": "code",
   "execution_count": 172,
   "metadata": {},
   "outputs": [
    {
     "data": {
      "image/png": "[encoded data removed]",
      "text/plain": [
       "<Figure size 432x288 with 1 Axes>"
      ]
     },
     "metadata": {
      "needs_background": "light"
     },
     "output_type": "display_data"
    },
    {
     "data": {
      "image/png": "[encoded data removed]",
      "text/plain": [
       "<Figure size 432x288 with 1 Axes>"
      ]
     },
     "metadata": {
      "needs_background": "light"
     },
     "output_type": "display_data"
    }
   ],
   "source": [
    "sns.barplot(x = 'Num-Cylinders', y = 'City-MPG', data = new_df)\n",
    "plt.show()\n",
    "\n",
    "sns.barplot(x = 'Num-Cylinders', y = 'Highway-MPG', data = new_df)\n",
    "plt.show()"
   ]
  },
  {
   "cell_type": "code",
   "execution_count": 186,
   "metadata": {},
   "outputs": [
    {
     "data": {
      "image/png": "[encoded data removed]",
      "text/plain": [
       "<Figure size 432x288 with 1 Axes>"
      ]
     },
     "metadata": {
      "needs_background": "light"
     },
     "output_type": "display_data"
    },
    {
     "data": {
      "image/png": "[encoded data removed]",
      "text/plain": [
       "<Figure size 432x288 with 1 Axes>"
      ]
     },
     "metadata": {
      "needs_background": "light"
     },
     "output_type": "display_data"
    }
   ],
   "source": [
    "sns.barplot(x = 'Make', y = 'City-MPG', data = new_df)\n",
    "plt.show()\n",
    "\n",
    "sns.barplot(x = 'Make', y = 'Highway-MPG', data = new_df)\n",
    "plt.show()"
   ]
  },
  {
   "cell_type": "code",
   "execution_count": 182,
   "metadata": {},
   "outputs": [
    {
     "data": {
      "image/png": "[encoded data removed]",
      "text/plain": [
       "<Figure size 1080x720 with 4 Axes>"
      ]
     },
     "metadata": {
      "needs_background": "light"
     },
     "output_type": "display_data"
    }
   ],
   "source": [
    "#histograms\n",
    "\n",
    "numericDataColumns = ['Horsepower', 'City-MPG', 'Highway-MPG']\n",
    "vals = new_df[numericDataColumns].copy()\n",
    "\n",
    "vals.hist(bins=10, figsize=(15,10))\n",
    "plt.show()"
   ]
  },
  {
   "cell_type": "code",
   "execution_count": 183,
   "metadata": {},
   "outputs": [
    {
     "data": {
      "text/plain": [
       "<AxesSubplot:xlabel='Horsepower', ylabel='Count'>"
      ]
     },
     "execution_count": 183,
     "metadata": {},
     "output_type": "execute_result"
    },
    {
     "data": {
      "image/png": "[encoded data removed]",
      "text/plain": [
       "<Figure size 432x288 with 1 Axes>"
      ]
     },
     "metadata": {
      "needs_background": "light"
     },
     "output_type": "display_data"
    }
   ],
   "source": [
    "sns.histplot(df['Horsepower'])"
   ]
  },
  {
   "cell_type": "code",
   "execution_count": 184,
   "metadata": {},
   "outputs": [
    {
     "data": {
      "text/plain": [
       "<AxesSubplot:xlabel='City-MPG', ylabel='Count'>"
      ]
     },
     "execution_count": 184,
     "metadata": {},
     "output_type": "execute_result"
    },
    {
     "data": {
      "image/png": "[encoded data removed]",
      "text/plain": [
       "<Figure size 432x288 with 1 Axes>"
      ]
     },
     "metadata": {
      "needs_background": "light"
     },
     "output_type": "display_data"
    }
   ],
   "source": [
    "sns.histplot(df['City-MPG'])"
   ]
  },
  {
   "cell_type": "code",
   "execution_count": 185,
   "metadata": {},
   "outputs": [
    {
     "data": {
      "text/plain": [
       "<AxesSubplot:xlabel='Highway-MPG', ylabel='Count'>"
      ]
     },
     "execution_count": 185,
     "metadata": {},
     "output_type": "execute_result"
    },
    {
     "data": {
      "image/png": "[encoded data removed]",
      "text/plain": [
       "<Figure size 432x288 with 1 Axes>"
      ]
     },
     "metadata": {
      "needs_background": "light"
     },
     "output_type": "display_data"
    }
   ],
   "source": [
    "sns.histplot(df['Highway-MPG'])"
   ]
  },
  {
   "cell_type": "code",
   "execution_count": 189,
   "metadata": {},
   "outputs": [
    {
     "data": {
      "text/plain": [
       "<AxesSubplot:xlabel='Horsepower', ylabel='City-MPG'>"
      ]
     },
     "execution_count": 189,
     "metadata": {},
     "output_type": "execute_result"
    },
    {
     "data": {
      "image/png": "[encoded data removed]",
      "text/plain": [
       "<Figure size 432x288 with 1 Axes>"
      ]
     },
     "metadata": {
      "needs_background": "light"
     },
     "output_type": "display_data"
    }
   ],
   "source": [
    "# Scatter plot \n",
    "\n",
    "sns.scatterplot(x = 'Horsepower', y ='City-MPG',data =new_df)"
   ]
  },
  {
   "cell_type": "code",
   "execution_count": 190,
   "metadata": {},
   "outputs": [
    {
     "data": {
      "text/plain": [
       "<AxesSubplot:xlabel='Horsepower', ylabel='City-MPG'>"
      ]
     },
     "execution_count": 190,
     "metadata": {},
     "output_type": "execute_result"
    },
    {
     "data": {
      "image/png": "[encoded data removed]",
      "text/plain": [
       "<Figure size 432x288 with 1 Axes>"
      ]
     },
     "metadata": {
      "needs_background": "light"
     },
     "output_type": "display_data"
    }
   ],
   "source": [
    "new_df.plot(kind=\"scatter\", x=\"Horsepower\",  y=\"City-MPG\")"
   ]
  },
  {
   "cell_type": "markdown",
   "metadata": {},
   "source": [
    "### EDA Summary: \n"
   ]
  },
  {
   "cell_type": "markdown",
   "metadata": {},
   "source": [
    "We can certainly assume from the above drawn graphs that, the relationship between automobile gas mileage and horsepower is directly related. Less horsepower more city MPG and viceversa.\n",
    "\n",
    "Highway MPG also have same relationship like the City MPG has with each of these attributes. \n",
    "\n",
    "Weight of the vehicle also have direct relationship with the automobile gas mileage. MPG is less if the curb weight of a vehicle is more. \n",
    "\n",
    "Disel vehicles give more mileage per gallon than that of gas vehicles.\n",
    "\n",
    "The graphs also suggests that number of cylinder and horsepower are also directly related. More number of cylinders, more horsepower. Which is why we can also say based on the analytics that, the cars with more cylinders give less MPG. \n",
    "\n",
    "The study also suggests that, the engine size and gas mileage are also directly related. Bigger the engine size gets, we can see that MPG reduces. "
   ]
  },
  {
   "cell_type": "markdown",
   "metadata": {},
   "source": [
    "## Section 3: Data Preparation & Feature Engineering"
   ]
  },
  {
   "cell_type": "markdown",
   "metadata": {},
   "source": [
    "### 1. Which numeric variables contained within the data set appear to require the use of a\n",
    "feature scaling method for purposes of preparing them for use within a machine learning algorithm?\n",
    "Be sure to list each relevant variable and explain why you believe each variable that you’ve identified\n",
    "requires the use of some sort of feature scaling method.\n"
   ]
  },
  {
   "cell_type": "code",
   "execution_count": 192,
   "metadata": {},
   "outputs": [
    {
     "data": {
      "text/plain": [
       "<AxesSubplot:>"
      ]
     },
     "execution_count": 192,
     "metadata": {},
     "output_type": "execute_result"
    },
    {
     "data": {
      "image/png": "[encoded data removed]",
      "text/plain": [
       "<Figure size 432x288 with 1 Axes>"
      ]
     },
     "metadata": {
      "needs_background": "light"
     },
     "output_type": "display_data"
    }
   ],
   "source": [
    "#boxplot to see which variables are how far outside the range of the \n",
    "\n",
    "numericDataColumns = ['Symbol', 'Wheel Base', 'Length','Width','Height','Curb Weight','Engine Size', 'Compression-Ratio', 'City-MPG', 'Highway-MPG']\n",
    "vals = df[numericDataColumns].copy()\n",
    "\n",
    "from sklearn.preprocessing import StandardScaler\n",
    "\n",
    "scaler = StandardScaler()\n",
    "vals_scaled = scaler.fit_transform(vals)\n",
    "vals_scaled = pd.DataFrame(vals_scaled, columns=numericDataColumns)\n",
    "\n",
    "vals_scaled.plot.box(grid='True')"
   ]
  },
  {
   "cell_type": "code",
   "execution_count": 331,
   "metadata": {},
   "outputs": [
    {
     "data": {
      "text/plain": [
       "<AxesSubplot:>"
      ]
     },
     "execution_count": 331,
     "metadata": {},
     "output_type": "execute_result"
    },
    {
     "data": {
      "image/png": "[encoded data removed]",
      "text/plain": [
       "<Figure size 720x720 with 2 Axes>"
      ]
     },
     "metadata": {
      "needs_background": "light"
     },
     "output_type": "display_data"
    }
   ],
   "source": [
    "# Correlation Map of our NON-CATEGORICAL DATA\n",
    "corr = df.corr()\n",
    "plt.figure(figsize=(10,10))\n",
    "sns.heatmap(data=corr, square=True , annot=True, cbar=True)"
   ]
  },
  {
   "cell_type": "markdown",
   "metadata": {},
   "source": [
    "After observing the box plot and corelation map of Non-Categorical data, following numeric variables require the use of a feature scaling:\n",
    "\n",
    "Wheel Base, Length, Width, Engine Size, Compression Ratio, City-MPG and Highway-MPG need feature scaling based on the two graphical representation displayed above."
   ]
  },
  {
   "cell_type": "markdown",
   "metadata": {},
   "source": [
    "### 2. Consider the number-of-doors and price variables: Based on your EDA work, how many\n",
    "missing data values occur within each of these attributes? As we’ve learned, missing data values can\n",
    "impede the proper functioning of many machine learning algorithms. To address the missing the\n",
    "number-of-doors and price values, you have been instructed to formulate what you believe will be an\n",
    "1 effective data imputation approach for purposes of estimating reasonable proxies for the missing data\n",
    "values. Your supervisor tells you that the affected data observations MUST be retained within the data\n",
    "set, and that it would be inappropriate to use either a mean, median, or mode value for any of the\n",
    "missing values since doing so would increase the likelihood of introducing unwarranted bias within the\n",
    "data set. Describe the imputation method you would employ for each variable. Then, using your\n",
    "Python skills, apply your prescribed imputation methods to the variables. Be sure to include graphics\n",
    "and commentary that explain your approach as well as the results of your efforts."
   ]
  },
  {
   "cell_type": "code",
   "execution_count": 238,
   "metadata": {},
   "outputs": [
    {
     "data": {
      "text/plain": [
       "array(['two', 'four', '?'], dtype=object)"
      ]
     },
     "execution_count": 238,
     "metadata": {},
     "output_type": "execute_result"
    }
   ],
   "source": [
    "#checking for unique values\n",
    "df['Num Doors'].unique() "
   ]
  },
  {
   "cell_type": "code",
   "execution_count": 230,
   "metadata": {},
   "outputs": [
    {
     "data": {
      "text/html": [
       "<div>\n",
       "<style scoped>\n",
       "    .dataframe tbody tr th:only-of-type {\n",
       "        vertical-align: middle;\n",
       "    }\n",
       "\n",
       "    .dataframe tbody tr th {\n",
       "        vertical-align: top;\n",
       "    }\n",
       "\n",
       "    .dataframe thead th {\n",
       "        text-align: right;\n",
       "    }\n",
       "</style>\n",
       "<table border=\"1\" class=\"dataframe\">\n",
       "  <thead>\n",
       "    <tr style=\"text-align: right;\">\n",
       "      <th></th>\n",
       "      <th>Symbol</th>\n",
       "      <th>Normalized Loss</th>\n",
       "      <th>Make</th>\n",
       "      <th>Fuel-Type</th>\n",
       "      <th>Aspiration</th>\n",
       "      <th>Num Doors</th>\n",
       "      <th>Body Style</th>\n",
       "      <th>Drive-Wheels</th>\n",
       "      <th>Engine Location</th>\n",
       "      <th>Wheel Base</th>\n",
       "      <th>...</th>\n",
       "      <th>Engine Size</th>\n",
       "      <th>Fuel System</th>\n",
       "      <th>Bore</th>\n",
       "      <th>Stroke</th>\n",
       "      <th>Compression-Ratio</th>\n",
       "      <th>Horsepower</th>\n",
       "      <th>Peak-RPM</th>\n",
       "      <th>City-MPG</th>\n",
       "      <th>Highway-MPG</th>\n",
       "      <th>Price</th>\n",
       "    </tr>\n",
       "  </thead>\n",
       "  <tbody>\n",
       "    <tr>\n",
       "      <th>27</th>\n",
       "      <td>1</td>\n",
       "      <td>148</td>\n",
       "      <td>dodge</td>\n",
       "      <td>gas</td>\n",
       "      <td>turbo</td>\n",
       "      <td>?</td>\n",
       "      <td>sedan</td>\n",
       "      <td>fwd</td>\n",
       "      <td>front</td>\n",
       "      <td>93.7</td>\n",
       "      <td>...</td>\n",
       "      <td>98</td>\n",
       "      <td>mpfi</td>\n",
       "      <td>3.03</td>\n",
       "      <td>3.39</td>\n",
       "      <td>7.6</td>\n",
       "      <td>102</td>\n",
       "      <td>5500</td>\n",
       "      <td>24</td>\n",
       "      <td>30</td>\n",
       "      <td>8558</td>\n",
       "    </tr>\n",
       "    <tr>\n",
       "      <th>63</th>\n",
       "      <td>0</td>\n",
       "      <td>?</td>\n",
       "      <td>mazda</td>\n",
       "      <td>diesel</td>\n",
       "      <td>std</td>\n",
       "      <td>?</td>\n",
       "      <td>sedan</td>\n",
       "      <td>fwd</td>\n",
       "      <td>front</td>\n",
       "      <td>98.8</td>\n",
       "      <td>...</td>\n",
       "      <td>122</td>\n",
       "      <td>idi</td>\n",
       "      <td>3.39</td>\n",
       "      <td>3.39</td>\n",
       "      <td>22.7</td>\n",
       "      <td>64</td>\n",
       "      <td>4650</td>\n",
       "      <td>36</td>\n",
       "      <td>42</td>\n",
       "      <td>10795</td>\n",
       "    </tr>\n",
       "  </tbody>\n",
       "</table>\n",
       "<p>2 rows × 26 columns</p>\n",
       "</div>"
      ],
      "text/plain": [
       "    Symbol Normalized Loss   Make Fuel-Type Aspiration Num Doors Body Style  \\\n",
       "27       1             148  dodge       gas      turbo         ?      sedan   \n",
       "63       0               ?  mazda    diesel        std         ?      sedan   \n",
       "\n",
       "   Drive-Wheels Engine Location  Wheel Base  ...  Engine Size  Fuel System  \\\n",
       "27          fwd           front        93.7  ...           98         mpfi   \n",
       "63          fwd           front        98.8  ...          122          idi   \n",
       "\n",
       "    Bore  Stroke Compression-Ratio Horsepower  Peak-RPM City-MPG Highway-MPG  \\\n",
       "27  3.03    3.39               7.6        102      5500       24          30   \n",
       "63  3.39    3.39              22.7         64      4650       36          42   \n",
       "\n",
       "    Price  \n",
       "27   8558  \n",
       "63  10795  \n",
       "\n",
       "[2 rows x 26 columns]"
      ]
     },
     "execution_count": 230,
     "metadata": {},
     "output_type": "execute_result"
    }
   ],
   "source": [
    "# locating the index of '?' character \n",
    "\n",
    "df.loc[df['Num Doors']=='?']"
   ]
  },
  {
   "cell_type": "code",
   "execution_count": null,
   "metadata": {},
   "outputs": [],
   "source": [
    "#checking for unique values\n",
    "df['Price'].unique() "
   ]
  },
  {
   "cell_type": "code",
   "execution_count": 232,
   "metadata": {},
   "outputs": [
    {
     "data": {
      "text/html": [
       "<div>\n",
       "<style scoped>\n",
       "    .dataframe tbody tr th:only-of-type {\n",
       "        vertical-align: middle;\n",
       "    }\n",
       "\n",
       "    .dataframe tbody tr th {\n",
       "        vertical-align: top;\n",
       "    }\n",
       "\n",
       "    .dataframe thead th {\n",
       "        text-align: right;\n",
       "    }\n",
       "</style>\n",
       "<table border=\"1\" class=\"dataframe\">\n",
       "  <thead>\n",
       "    <tr style=\"text-align: right;\">\n",
       "      <th></th>\n",
       "      <th>Symbol</th>\n",
       "      <th>Normalized Loss</th>\n",
       "      <th>Make</th>\n",
       "      <th>Fuel-Type</th>\n",
       "      <th>Aspiration</th>\n",
       "      <th>Num Doors</th>\n",
       "      <th>Body Style</th>\n",
       "      <th>Drive-Wheels</th>\n",
       "      <th>Engine Location</th>\n",
       "      <th>Wheel Base</th>\n",
       "      <th>...</th>\n",
       "      <th>Engine Size</th>\n",
       "      <th>Fuel System</th>\n",
       "      <th>Bore</th>\n",
       "      <th>Stroke</th>\n",
       "      <th>Compression-Ratio</th>\n",
       "      <th>Horsepower</th>\n",
       "      <th>Peak-RPM</th>\n",
       "      <th>City-MPG</th>\n",
       "      <th>Highway-MPG</th>\n",
       "      <th>Price</th>\n",
       "    </tr>\n",
       "  </thead>\n",
       "  <tbody>\n",
       "    <tr>\n",
       "      <th>9</th>\n",
       "      <td>0</td>\n",
       "      <td>?</td>\n",
       "      <td>audi</td>\n",
       "      <td>gas</td>\n",
       "      <td>turbo</td>\n",
       "      <td>two</td>\n",
       "      <td>hatchback</td>\n",
       "      <td>4wd</td>\n",
       "      <td>front</td>\n",
       "      <td>99.5</td>\n",
       "      <td>...</td>\n",
       "      <td>131</td>\n",
       "      <td>mpfi</td>\n",
       "      <td>3.13</td>\n",
       "      <td>3.40</td>\n",
       "      <td>7.0</td>\n",
       "      <td>160</td>\n",
       "      <td>5500</td>\n",
       "      <td>16</td>\n",
       "      <td>22</td>\n",
       "      <td>?</td>\n",
       "    </tr>\n",
       "    <tr>\n",
       "      <th>44</th>\n",
       "      <td>1</td>\n",
       "      <td>?</td>\n",
       "      <td>isuzu</td>\n",
       "      <td>gas</td>\n",
       "      <td>std</td>\n",
       "      <td>two</td>\n",
       "      <td>sedan</td>\n",
       "      <td>fwd</td>\n",
       "      <td>front</td>\n",
       "      <td>94.5</td>\n",
       "      <td>...</td>\n",
       "      <td>90</td>\n",
       "      <td>2bbl</td>\n",
       "      <td>3.03</td>\n",
       "      <td>3.11</td>\n",
       "      <td>9.6</td>\n",
       "      <td>70</td>\n",
       "      <td>5400</td>\n",
       "      <td>38</td>\n",
       "      <td>43</td>\n",
       "      <td>?</td>\n",
       "    </tr>\n",
       "    <tr>\n",
       "      <th>45</th>\n",
       "      <td>0</td>\n",
       "      <td>?</td>\n",
       "      <td>isuzu</td>\n",
       "      <td>gas</td>\n",
       "      <td>std</td>\n",
       "      <td>four</td>\n",
       "      <td>sedan</td>\n",
       "      <td>fwd</td>\n",
       "      <td>front</td>\n",
       "      <td>94.5</td>\n",
       "      <td>...</td>\n",
       "      <td>90</td>\n",
       "      <td>2bbl</td>\n",
       "      <td>3.03</td>\n",
       "      <td>3.11</td>\n",
       "      <td>9.6</td>\n",
       "      <td>70</td>\n",
       "      <td>5400</td>\n",
       "      <td>38</td>\n",
       "      <td>43</td>\n",
       "      <td>?</td>\n",
       "    </tr>\n",
       "    <tr>\n",
       "      <th>129</th>\n",
       "      <td>1</td>\n",
       "      <td>?</td>\n",
       "      <td>porsche</td>\n",
       "      <td>gas</td>\n",
       "      <td>std</td>\n",
       "      <td>two</td>\n",
       "      <td>hatchback</td>\n",
       "      <td>rwd</td>\n",
       "      <td>front</td>\n",
       "      <td>98.4</td>\n",
       "      <td>...</td>\n",
       "      <td>203</td>\n",
       "      <td>mpfi</td>\n",
       "      <td>3.94</td>\n",
       "      <td>3.11</td>\n",
       "      <td>10.0</td>\n",
       "      <td>288</td>\n",
       "      <td>5750</td>\n",
       "      <td>17</td>\n",
       "      <td>28</td>\n",
       "      <td>?</td>\n",
       "    </tr>\n",
       "  </tbody>\n",
       "</table>\n",
       "<p>4 rows × 26 columns</p>\n",
       "</div>"
      ],
      "text/plain": [
       "     Symbol Normalized Loss     Make Fuel-Type Aspiration Num Doors  \\\n",
       "9         0               ?     audi       gas      turbo       two   \n",
       "44        1               ?    isuzu       gas        std       two   \n",
       "45        0               ?    isuzu       gas        std      four   \n",
       "129       1               ?  porsche       gas        std       two   \n",
       "\n",
       "    Body Style Drive-Wheels Engine Location  Wheel Base  ...  Engine Size  \\\n",
       "9    hatchback          4wd           front        99.5  ...          131   \n",
       "44       sedan          fwd           front        94.5  ...           90   \n",
       "45       sedan          fwd           front        94.5  ...           90   \n",
       "129  hatchback          rwd           front        98.4  ...          203   \n",
       "\n",
       "     Fuel System  Bore  Stroke Compression-Ratio Horsepower  Peak-RPM  \\\n",
       "9           mpfi  3.13    3.40               7.0        160      5500   \n",
       "44          2bbl  3.03    3.11               9.6         70      5400   \n",
       "45          2bbl  3.03    3.11               9.6         70      5400   \n",
       "129         mpfi  3.94    3.11              10.0        288      5750   \n",
       "\n",
       "    City-MPG Highway-MPG Price  \n",
       "9         16          22     ?  \n",
       "44        38          43     ?  \n",
       "45        38          43     ?  \n",
       "129       17          28     ?  \n",
       "\n",
       "[4 rows x 26 columns]"
      ]
     },
     "execution_count": 232,
     "metadata": {},
     "output_type": "execute_result"
    }
   ],
   "source": [
    "# locating the index of '?' character \n",
    "\n",
    "df.loc[df['Price']=='?']"
   ]
  },
  {
   "cell_type": "markdown",
   "metadata": {},
   "source": [
    "Attributes number-of-doors and price have 2 and 4 missing data values. "
   ]
  },
  {
   "cell_type": "markdown",
   "metadata": {},
   "source": [
    "Replacing the missing value \"?\" with \"NaN\" value.  And then applying the \"back fill\" method to fill in those NaN values with the previous values in the column using python library. New df is created to preserve the original data set from potential data change and carrying out the operations. "
   ]
  },
  {
   "cell_type": "code",
   "execution_count": 262,
   "metadata": {},
   "outputs": [],
   "source": [
    "#make copy of df, so original data is not impacted\n",
    "\n",
    "df_replace = df.copy()\n",
    "\n",
    "# replace ? with nan in the replaced df_replace data\n",
    "df_replace.replace('?', np.nan, inplace=True)"
   ]
  },
  {
   "cell_type": "code",
   "execution_count": 264,
   "metadata": {},
   "outputs": [],
   "source": [
    "#replace nan with previous value in the column\n",
    "\n",
    "df_replace.fillna(method='bfill', inplace=True)\n"
   ]
  },
  {
   "cell_type": "markdown",
   "metadata": {},
   "source": [
    "### Graphics on Number-of-Door and Price"
   ]
  },
  {
   "cell_type": "code",
   "execution_count": 271,
   "metadata": {},
   "outputs": [],
   "source": [
    "# converting the column Price into numeric\n",
    "df_replace['Price'] = pd.to_numeric(df_replace['Price'])"
   ]
  },
  {
   "cell_type": "code",
   "execution_count": 275,
   "metadata": {},
   "outputs": [
    {
     "data": {
      "image/png": "[encoded data removed]",
      "text/plain": [
       "<Figure size 432x288 with 1 Axes>"
      ]
     },
     "metadata": {
      "needs_background": "light"
     },
     "output_type": "display_data"
    }
   ],
   "source": [
    "%matplotlib inline\n",
    "\n",
    "bplt = df_replace['Num Doors'].value_counts().plot.bar(title = \"Freq Dist of Number-of-Doors\")\n",
    "bplt;"
   ]
  },
  {
   "cell_type": "markdown",
   "metadata": {},
   "source": [
    "It appears from the bar plot that the cars with four doors are more in the data set than the cars that have two doors. "
   ]
  },
  {
   "cell_type": "code",
   "execution_count": 274,
   "metadata": {},
   "outputs": [
    {
     "data": {
      "image/png": "[encoded data removed]",
      "text/plain": [
       "<Figure size 432x288 with 1 Axes>"
      ]
     },
     "metadata": {
      "needs_background": "light"
     },
     "output_type": "display_data"
    },
    {
     "data": {
      "image/png": "[encoded data removed]",
      "text/plain": [
       "<Figure size 432x288 with 1 Axes>"
      ]
     },
     "metadata": {
      "needs_background": "light"
     },
     "output_type": "display_data"
    }
   ],
   "source": [
    "# Using Matplotlib Histogram \n",
    "\n",
    "df_replace['Price'].hist()\n",
    "plt.show()\n",
    "\n",
    "# Using Seaborn Histogram \n",
    "\n",
    "sns.histplot(data=df_replace, x=\"Price\")\n",
    "plt.show()"
   ]
  },
  {
   "cell_type": "markdown",
   "metadata": {},
   "source": [
    "The data suggests that more ecpensive cars are far less sold than the cheaper ones. "
   ]
  },
  {
   "cell_type": "markdown",
   "metadata": {},
   "source": [
    "### 3. Consider the engine-size and stroke variables: Describe the specific feature scaling method\n",
    "you would apply to each of them. Then, using Python, generate both a histogram and a boxplot for the\n",
    "original content of these two variables. Next, apply your prescribed feature scaling methods to the two\n",
    "variables and create histograms and boxplots that show the results of your feature scaling efforts.\n",
    "Compare your newly created plots against the plots you created for the original content of the\n",
    "variables. Comment on whether your feature scaling efforts improved the distribution of the data. If\n",
    "your feature scaling efforts did not improve the distribution of the data, explain why you believe your\n",
    "efforts were not effective."
   ]
  },
  {
   "cell_type": "markdown",
   "metadata": {},
   "source": [
    "### Cleaning data for scaling"
   ]
  },
  {
   "cell_type": "code",
   "execution_count": 279,
   "metadata": {},
   "outputs": [],
   "source": [
    "# make a copy of original data \n",
    "scale_df = df.copy()"
   ]
  },
  {
   "cell_type": "markdown",
   "metadata": {},
   "source": [
    "It is important to note that the data type of stroke is contineous and engine size is of type contineous. Now it is also important to make sure that they are represented as such in the data set. If they are represented as something other than contineous or numeric, we have to make sure to change them to contineous and numeric. "
   ]
  },
  {
   "cell_type": "code",
   "execution_count": 289,
   "metadata": {},
   "outputs": [
    {
     "name": "stdout",
     "output_type": "stream",
     "text": [
      "int64\n",
      "object\n"
     ]
    }
   ],
   "source": [
    "# checking data typesof specific columns, Engine Size and Stroke\n",
    "\n",
    "print(scale_df.dtypes['Engine Size'])\n",
    "print(scale_df.dtypes['Stroke'])\n"
   ]
  },
  {
   "cell_type": "markdown",
   "metadata": {},
   "source": [
    "It appears that the data type of Stroke is represented as an object. If we are to analyze these data, we have to make sure that they are compared \"apple to apple\", meaning both have the same data type. Also, we have the information from UCI that Stroke variable is a contineous variable which should have Numeric representation, so we have to make sure to check and make changes if necessary. "
   ]
  },
  {
   "cell_type": "markdown",
   "metadata": {},
   "source": [
    "Making sure that there not any invalid characters, before attempting to change the data types. "
   ]
  },
  {
   "cell_type": "code",
   "execution_count": 290,
   "metadata": {},
   "outputs": [
    {
     "data": {
      "text/plain": [
       "array(['2.68', '3.47', '3.40', '2.80', '3.19', '3.39', '3.03', '3.11',\n",
       "       '3.23', '3.46', '3.90', '3.41', '3.07', '3.58', '4.17', '2.76',\n",
       "       '3.15', '?', '3.16', '3.64', '3.10', '3.35', '3.12', '3.86',\n",
       "       '3.29', '3.27', '3.52', '2.19', '3.21', '2.90', '2.07', '2.36',\n",
       "       '2.64', '3.08', '3.50', '3.54', '2.87'], dtype=object)"
      ]
     },
     "execution_count": 290,
     "metadata": {},
     "output_type": "execute_result"
    }
   ],
   "source": [
    "# making sure there are not any invalid or null character\n",
    "scale_df['Stroke'].unique()"
   ]
  },
  {
   "cell_type": "markdown",
   "metadata": {},
   "source": [
    "We notice that there is a \"?\" character in the data set of column Stroke, we have to replace them with a numeric value. I will be replacing them with a random value between 2.07 to 4.17, as the range of data is not very wide, in the next box."
   ]
  },
  {
   "cell_type": "code",
   "execution_count": 304,
   "metadata": {},
   "outputs": [],
   "source": [
    "# stroke: continuous from 2.07 to 4.17, round that to 2 digit after decimal\n",
    "rand_int = round(np.random.uniform(2.07, 4.17), 2)\n",
    "\n",
    "scale_df['Stroke'] = df['Stroke'].replace(['?'], rand_int)"
   ]
  },
  {
   "cell_type": "markdown",
   "metadata": {},
   "source": [
    "Now that we are sure that all the data within the column \"Stroke\" are numeric, we are changing the column data type to numeric in the next block of code. "
   ]
  },
  {
   "cell_type": "code",
   "execution_count": 305,
   "metadata": {},
   "outputs": [],
   "source": [
    "# converting the column Stroke into numeric\n",
    "\n",
    "scale_df['Stroke'] = pd.to_numeric(scale_df['Stroke'])"
   ]
  },
  {
   "cell_type": "markdown",
   "metadata": {},
   "source": [
    "The data set in attribute \"Stroke\" is now ready for further analysis. "
   ]
  },
  {
   "cell_type": "code",
   "execution_count": 292,
   "metadata": {},
   "outputs": [
    {
     "data": {
      "text/plain": [
       "array([130, 152, 109, 136, 131, 108, 164, 209,  61,  90,  98, 122, 156,\n",
       "        92,  79, 110, 111, 119, 258, 326,  91,  70,  80, 140, 134, 183,\n",
       "       234, 308, 304,  97, 103, 120, 181, 151, 194, 203, 132, 121, 146,\n",
       "       171, 161, 141, 173, 145], dtype=int64)"
      ]
     },
     "execution_count": 292,
     "metadata": {},
     "output_type": "execute_result"
    }
   ],
   "source": [
    "scale_df['Engine Size'].unique()"
   ]
  },
  {
   "cell_type": "markdown",
   "metadata": {},
   "source": [
    "Data set Engine Size looks fine and also is ready for analysis aswell. "
   ]
  },
  {
   "cell_type": "markdown",
   "metadata": {},
   "source": [
    "### Before Feature Scaling\n",
    "\n",
    "Now, checking for outliers in attributes \"Engine Size\" and \"Stroke\". This step is done before we have applied any scaling technique. So that we can compare this plot later with the ones generated after scaling."
   ]
  },
  {
   "cell_type": "code",
   "execution_count": 307,
   "metadata": {},
   "outputs": [
    {
     "data": {
      "text/plain": [
       "<AxesSubplot:>"
      ]
     },
     "execution_count": 307,
     "metadata": {},
     "output_type": "execute_result"
    },
    {
     "data": {
      "image/png": "[encoded data removed]",
      "text/plain": [
       "<Figure size 432x288 with 1 Axes>"
      ]
     },
     "metadata": {
      "needs_background": "light"
     },
     "output_type": "display_data"
    }
   ],
   "source": [
    "# using box plot to check for outliers, before applying feature scaling technique\n",
    "\n",
    "numericDataColumns = ['Engine Size', 'Stroke']\n",
    "value = scale_df[numericDataColumns].copy()\n",
    "\n",
    "from sklearn.preprocessing import StandardScaler\n",
    "\n",
    "scaler = StandardScaler()\n",
    "value_scaled = scaler.fit_transform(value)\n",
    "value_scaled = pd.DataFrame(value_scaled, columns=numericDataColumns)\n",
    "\n",
    "value_scaled.plot.box(grid='True')"
   ]
  },
  {
   "cell_type": "code",
   "execution_count": 308,
   "metadata": {},
   "outputs": [
    {
     "data": {
      "image/png": "[encoded data removed]",
      "text/plain": [
       "<Figure size 432x288 with 1 Axes>"
      ]
     },
     "metadata": {
      "needs_background": "light"
     },
     "output_type": "display_data"
    },
    {
     "data": {
      "image/png": "[encoded data removed]",
      "text/plain": [
       "<Figure size 432x288 with 1 Axes>"
      ]
     },
     "metadata": {
      "needs_background": "light"
     },
     "output_type": "display_data"
    }
   ],
   "source": [
    "# Using Matplotlib Histogram \n",
    "\n",
    "scale_df['Engine Size'].hist()\n",
    "plt.show()\n",
    "\n",
    "# Using Seaborn Histogram \n",
    "\n",
    "sns.histplot(data=scale_df, x=\"Stroke\")\n",
    "plt.show()"
   ]
  },
  {
   "cell_type": "markdown",
   "metadata": {},
   "source": [
    "Based on the histograms and box plot, we can see that there are a lot of outliers on both sides on attribute \"Stroke\" and attribute \"Engine Size\" has most of the outliers on the higher end or towards the right. "
   ]
  },
  {
   "cell_type": "markdown",
   "metadata": {},
   "source": [
    "### Scaling "
   ]
  },
  {
   "cell_type": "markdown",
   "metadata": {},
   "source": [
    "One of the most used scaling technique is Standardization. We will apply this technique and see if there are any improvements. If there are improvments and we are satisfied with the result, we will leave it like that, if not we will try to analyze why are'nt there any improvement. "
   ]
  },
  {
   "cell_type": "markdown",
   "metadata": {},
   "source": [
    "Using the data that we just cleaned above, we will make a subset just with the attributes Engine Size and Stroke, and use them to feature scaling with standardization technique. "
   ]
  },
  {
   "cell_type": "code",
   "execution_count": 312,
   "metadata": {},
   "outputs": [
    {
     "data": {
      "text/html": [
       "<div>\n",
       "<style scoped>\n",
       "    .dataframe tbody tr th:only-of-type {\n",
       "        vertical-align: middle;\n",
       "    }\n",
       "\n",
       "    .dataframe tbody tr th {\n",
       "        vertical-align: top;\n",
       "    }\n",
       "\n",
       "    .dataframe thead th {\n",
       "        text-align: right;\n",
       "    }\n",
       "</style>\n",
       "<table border=\"1\" class=\"dataframe\">\n",
       "  <thead>\n",
       "    <tr style=\"text-align: right;\">\n",
       "      <th></th>\n",
       "      <th>Engine Size</th>\n",
       "      <th>Stroke</th>\n",
       "    </tr>\n",
       "  </thead>\n",
       "  <tbody>\n",
       "    <tr>\n",
       "      <th>0</th>\n",
       "      <td>130</td>\n",
       "      <td>2.68</td>\n",
       "    </tr>\n",
       "    <tr>\n",
       "      <th>1</th>\n",
       "      <td>130</td>\n",
       "      <td>2.68</td>\n",
       "    </tr>\n",
       "    <tr>\n",
       "      <th>2</th>\n",
       "      <td>152</td>\n",
       "      <td>3.47</td>\n",
       "    </tr>\n",
       "    <tr>\n",
       "      <th>3</th>\n",
       "      <td>109</td>\n",
       "      <td>3.40</td>\n",
       "    </tr>\n",
       "    <tr>\n",
       "      <th>4</th>\n",
       "      <td>136</td>\n",
       "      <td>3.40</td>\n",
       "    </tr>\n",
       "  </tbody>\n",
       "</table>\n",
       "</div>"
      ],
      "text/plain": [
       "   Engine Size  Stroke\n",
       "0          130    2.68\n",
       "1          130    2.68\n",
       "2          152    3.47\n",
       "3          109    3.40\n",
       "4          136    3.40"
      ]
     },
     "execution_count": 312,
     "metadata": {},
     "output_type": "execute_result"
    }
   ],
   "source": [
    "# create subset of just the two Engine Size and Stroke, \n",
    "std_df = scale_df[['Engine Size', 'Stroke']]\n",
    "std_df.head()"
   ]
  },
  {
   "cell_type": "code",
   "execution_count": 325,
   "metadata": {},
   "outputs": [],
   "source": [
    "# Min-Max Scaling\n",
    "# from sklearn.preprocessing import MinMaxScaler\n",
    "\n",
    "# scaler = MinMaxScaler(feature_range=(0,1))\n",
    "# rescaled_features = scaler.fit_transform(std_df)\n",
    "\n",
    "# StandardScaler\n",
    "from sklearn.preprocessing import StandardScaler\n",
    "\n",
    "scaler = scaler.fit(std_df)\n",
    "rescaled_features = scaler.transform(std_df)"
   ]
  },
  {
   "cell_type": "code",
   "execution_count": 326,
   "metadata": {},
   "outputs": [
    {
     "name": "stdout",
     "output_type": "stream",
     "text": [
      "     Engine Size    Stroke\n",
      "0       0.074449 -1.691332\n",
      "1       0.074449 -1.691332\n",
      "2       0.604046  0.694239\n",
      "3      -0.431076  0.482859\n",
      "4       0.218885  0.482859\n",
      "..           ...       ...\n",
      "200     0.339248 -0.272069\n",
      "201     0.339248 -0.272069\n",
      "202     1.109571 -1.117587\n",
      "203     0.435538  0.482859\n",
      "204     0.339248 -0.272069\n",
      "\n",
      "[205 rows x 2 columns]\n"
     ]
    }
   ],
   "source": [
    "#converting numpy array created by MinMaxScaler into Panda Data Frame\n",
    "\n",
    "rescaled_pd = pd.DataFrame(rescaled_features, columns=['Engine Size', 'Stroke'])\n",
    "print(rescaled_pd)"
   ]
  },
  {
   "cell_type": "markdown",
   "metadata": {},
   "source": [
    "### After Feature Scaling\n",
    "\n",
    "Now that we have scaled our data, we will examine how that impacts our data set. "
   ]
  },
  {
   "cell_type": "code",
   "execution_count": 327,
   "metadata": {},
   "outputs": [
    {
     "data": {
      "text/plain": [
       "<AxesSubplot:>"
      ]
     },
     "execution_count": 327,
     "metadata": {},
     "output_type": "execute_result"
    },
    {
     "data": {
      "image/png": "[encoded data removed]",
      "text/plain": [
       "<Figure size 432x288 with 1 Axes>"
      ]
     },
     "metadata": {
      "needs_background": "light"
     },
     "output_type": "display_data"
    }
   ],
   "source": [
    "# using box plot to check for outliers, after applying feature scaling technique\n",
    "\n",
    "numericDataColumns = ['Engine Size', 'Stroke']\n",
    "val = rescaled_pd[numericDataColumns].copy()\n",
    "\n",
    "from sklearn.preprocessing import StandardScaler\n",
    "\n",
    "scaler = StandardScaler()\n",
    "val_scaled = scaler.fit_transform(val)\n",
    "val_scaled = pd.DataFrame(val_scaled, columns=numericDataColumns)\n",
    "\n",
    "val_scaled.plot.box(grid='True')"
   ]
  },
  {
   "cell_type": "code",
   "execution_count": 328,
   "metadata": {},
   "outputs": [
    {
     "data": {
      "image/png": "[encoded data removed]",
      "text/plain": [
       "<Figure size 432x288 with 1 Axes>"
      ]
     },
     "metadata": {
      "needs_background": "light"
     },
     "output_type": "display_data"
    },
    {
     "data": {
      "image/png": "[encoded data removed]",
      "text/plain": [
       "<Figure size 432x288 with 1 Axes>"
      ]
     },
     "metadata": {
      "needs_background": "light"
     },
     "output_type": "display_data"
    }
   ],
   "source": [
    "#after scaling data\n",
    "\n",
    "# Using Matplotlib Histogram \n",
    "\n",
    "rescaled_pd['Engine Size'].hist()\n",
    "plt.show()\n",
    "\n",
    "# Using Seaborn Histogram \n",
    "\n",
    "sns.histplot(data=rescaled_pd, x=\"Stroke\")\n",
    "plt.show()"
   ]
  },
  {
   "cell_type": "code",
   "execution_count": 333,
   "metadata": {},
   "outputs": [
    {
     "data": {
      "text/plain": [
       "<AxesSubplot:>"
      ]
     },
     "execution_count": 333,
     "metadata": {},
     "output_type": "execute_result"
    },
    {
     "data": {
      "image/png": "[encoded data removed]",
      "text/plain": [
       "<Figure size 432x288 with 2 Axes>"
      ]
     },
     "metadata": {
      "needs_background": "light"
     },
     "output_type": "display_data"
    }
   ],
   "source": [
    "corr = rescaled_pd.corr()\n",
    "# plt.figure(figsize=(10,10))\n",
    "sns.heatmap(data=corr, square=True , annot=True, cbar=True)"
   ]
  },
  {
   "cell_type": "markdown",
   "metadata": {},
   "source": [
    "### Conclusion\n",
    "\n",
    "The result of the rescaled data gave us exactly same distribution as the data before feature scalling did. \n",
    "\n",
    "One reason could be that the data that are there before rescaling are within the required distribution range, which means that the rescaling didn't offer any new change to the data.\n",
    "\n"
   ]
  },
  {
   "cell_type": "markdown",
   "metadata": {},
   "source": [
    "### 4. Consider the symboling, make, and engine-type variables:"
   ]
  },
  {
   "cell_type": "markdown",
   "metadata": {},
   "source": [
    "\n",
    "A) For each variable, specify whether its content is numeric/continuous, numeric/discrete,\n",
    "categorical/nominal, or categorical/ordinal\n",
    "\n",
    "According to support.minitab.com, \"A discrete variable is always numeric. For example, the number of customer complaints or the number of flaws or defects. Continuous variables are numeric variables that have an infinite number of values between any two values. A continuous variable can be numeric or date/time.\"\n",
    "\n",
    "According to saedsaed.com, \"A nominal variable has no intrinsic ordering to its categories. For example, gender is a categorical variable having two categories (male and female) with no intrinsic ordering to the categories. An ordinal variable has a clear ordering. For example, temperature as a variable with three orderly categories (low, medium and high).\"\n",
    "\n",
    "* Symboling: numeric discrete\n",
    "* make: categorical nominal\n",
    "* engine-type: categorical ordinal"
   ]
  },
  {
   "cell_type": "markdown",
   "metadata": {},
   "source": [
    "B) For each variable, describe the methodology you would employ for purposes of preparing its data\n",
    "values for use within a machine learning algorithm.\n",
    "\n",
    "Most of the times, categorical attributes cannot be used directly into the machine learning algorithms, which is why they require transformation into numerical feature. \n",
    "\n",
    "* Symboling is a numerical data, so it can be used directly into machine learning algorithm.\n",
    "\n",
    "* Make is a categorical data, we have to convert them into some form of numerical data. One way to do so is by using get_dummies. Also can be done using One hot encoding libray which helps us achieve this goal avoiding label encoding.\n",
    "\n",
    "* Engine-type is also a categorical data, we can do the same that we did for \"make\" attribute for \"engine type\" aswell. \n",
    "\n",
    "Because its hard to convert the data generated by One Hot Encoding back to pandas, it is suggested to use get_dummies() library."
   ]
  },
  {
   "cell_type": "markdown",
   "metadata": {},
   "source": [
    "C) Using your Python skills, apply your prescribed data preparation methodologies to the three\n",
    "variables. Be sure to show a sample of your results within your Notebook"
   ]
  },
  {
   "cell_type": "markdown",
   "metadata": {},
   "source": [
    "Using get_dummies library to prepare the data to use in a machine learning algorithm."
   ]
  },
  {
   "cell_type": "code",
   "execution_count": 342,
   "metadata": {},
   "outputs": [
    {
     "data": {
      "text/html": [
       "<div>\n",
       "<style scoped>\n",
       "    .dataframe tbody tr th:only-of-type {\n",
       "        vertical-align: middle;\n",
       "    }\n",
       "\n",
       "    .dataframe tbody tr th {\n",
       "        vertical-align: top;\n",
       "    }\n",
       "\n",
       "    .dataframe thead th {\n",
       "        text-align: right;\n",
       "    }\n",
       "</style>\n",
       "<table border=\"1\" class=\"dataframe\">\n",
       "  <thead>\n",
       "    <tr style=\"text-align: right;\">\n",
       "      <th></th>\n",
       "      <th>Symbol</th>\n",
       "      <th>Make</th>\n",
       "      <th>Engine Type</th>\n",
       "    </tr>\n",
       "  </thead>\n",
       "  <tbody>\n",
       "    <tr>\n",
       "      <th>0</th>\n",
       "      <td>3</td>\n",
       "      <td>alfa-romero</td>\n",
       "      <td>dohc</td>\n",
       "    </tr>\n",
       "    <tr>\n",
       "      <th>1</th>\n",
       "      <td>3</td>\n",
       "      <td>alfa-romero</td>\n",
       "      <td>dohc</td>\n",
       "    </tr>\n",
       "    <tr>\n",
       "      <th>2</th>\n",
       "      <td>1</td>\n",
       "      <td>alfa-romero</td>\n",
       "      <td>ohcv</td>\n",
       "    </tr>\n",
       "    <tr>\n",
       "      <th>3</th>\n",
       "      <td>2</td>\n",
       "      <td>audi</td>\n",
       "      <td>ohc</td>\n",
       "    </tr>\n",
       "    <tr>\n",
       "      <th>4</th>\n",
       "      <td>2</td>\n",
       "      <td>audi</td>\n",
       "      <td>ohc</td>\n",
       "    </tr>\n",
       "  </tbody>\n",
       "</table>\n",
       "</div>"
      ],
      "text/plain": [
       "   Symbol         Make Engine Type\n",
       "0       3  alfa-romero        dohc\n",
       "1       3  alfa-romero        dohc\n",
       "2       1  alfa-romero        ohcv\n",
       "3       2         audi         ohc\n",
       "4       2         audi         ohc"
      ]
     },
     "execution_count": 342,
     "metadata": {},
     "output_type": "execute_result"
    }
   ],
   "source": [
    "#create a sub-category with just the symboling, make and engine type\n",
    "\n",
    "dummies_df = df[['Symbol','Make', 'Engine Type']]\n",
    "dummies_df.head()\n"
   ]
  },
  {
   "cell_type": "code",
   "execution_count": 341,
   "metadata": {},
   "outputs": [
    {
     "data": {
      "text/html": [
       "<div>\n",
       "<style scoped>\n",
       "    .dataframe tbody tr th:only-of-type {\n",
       "        vertical-align: middle;\n",
       "    }\n",
       "\n",
       "    .dataframe tbody tr th {\n",
       "        vertical-align: top;\n",
       "    }\n",
       "\n",
       "    .dataframe thead th {\n",
       "        text-align: right;\n",
       "    }\n",
       "</style>\n",
       "<table border=\"1\" class=\"dataframe\">\n",
       "  <thead>\n",
       "    <tr style=\"text-align: right;\">\n",
       "      <th></th>\n",
       "      <th>Symbol</th>\n",
       "      <th>Make_alfa-romero</th>\n",
       "      <th>Make_audi</th>\n",
       "      <th>Make_bmw</th>\n",
       "      <th>Make_chevrolet</th>\n",
       "      <th>Make_dodge</th>\n",
       "      <th>Make_honda</th>\n",
       "      <th>Make_isuzu</th>\n",
       "      <th>Make_jaguar</th>\n",
       "      <th>Make_mazda</th>\n",
       "      <th>...</th>\n",
       "      <th>Make_toyota</th>\n",
       "      <th>Make_volkswagen</th>\n",
       "      <th>Make_volvo</th>\n",
       "      <th>Engine Type_dohc</th>\n",
       "      <th>Engine Type_dohcv</th>\n",
       "      <th>Engine Type_l</th>\n",
       "      <th>Engine Type_ohc</th>\n",
       "      <th>Engine Type_ohcf</th>\n",
       "      <th>Engine Type_ohcv</th>\n",
       "      <th>Engine Type_rotor</th>\n",
       "    </tr>\n",
       "  </thead>\n",
       "  <tbody>\n",
       "    <tr>\n",
       "      <th>0</th>\n",
       "      <td>3</td>\n",
       "      <td>1</td>\n",
       "      <td>0</td>\n",
       "      <td>0</td>\n",
       "      <td>0</td>\n",
       "      <td>0</td>\n",
       "      <td>0</td>\n",
       "      <td>0</td>\n",
       "      <td>0</td>\n",
       "      <td>0</td>\n",
       "      <td>...</td>\n",
       "      <td>0</td>\n",
       "      <td>0</td>\n",
       "      <td>0</td>\n",
       "      <td>1</td>\n",
       "      <td>0</td>\n",
       "      <td>0</td>\n",
       "      <td>0</td>\n",
       "      <td>0</td>\n",
       "      <td>0</td>\n",
       "      <td>0</td>\n",
       "    </tr>\n",
       "    <tr>\n",
       "      <th>1</th>\n",
       "      <td>3</td>\n",
       "      <td>1</td>\n",
       "      <td>0</td>\n",
       "      <td>0</td>\n",
       "      <td>0</td>\n",
       "      <td>0</td>\n",
       "      <td>0</td>\n",
       "      <td>0</td>\n",
       "      <td>0</td>\n",
       "      <td>0</td>\n",
       "      <td>...</td>\n",
       "      <td>0</td>\n",
       "      <td>0</td>\n",
       "      <td>0</td>\n",
       "      <td>1</td>\n",
       "      <td>0</td>\n",
       "      <td>0</td>\n",
       "      <td>0</td>\n",
       "      <td>0</td>\n",
       "      <td>0</td>\n",
       "      <td>0</td>\n",
       "    </tr>\n",
       "    <tr>\n",
       "      <th>2</th>\n",
       "      <td>1</td>\n",
       "      <td>1</td>\n",
       "      <td>0</td>\n",
       "      <td>0</td>\n",
       "      <td>0</td>\n",
       "      <td>0</td>\n",
       "      <td>0</td>\n",
       "      <td>0</td>\n",
       "      <td>0</td>\n",
       "      <td>0</td>\n",
       "      <td>...</td>\n",
       "      <td>0</td>\n",
       "      <td>0</td>\n",
       "      <td>0</td>\n",
       "      <td>0</td>\n",
       "      <td>0</td>\n",
       "      <td>0</td>\n",
       "      <td>0</td>\n",
       "      <td>0</td>\n",
       "      <td>1</td>\n",
       "      <td>0</td>\n",
       "    </tr>\n",
       "    <tr>\n",
       "      <th>3</th>\n",
       "      <td>2</td>\n",
       "      <td>0</td>\n",
       "      <td>1</td>\n",
       "      <td>0</td>\n",
       "      <td>0</td>\n",
       "      <td>0</td>\n",
       "      <td>0</td>\n",
       "      <td>0</td>\n",
       "      <td>0</td>\n",
       "      <td>0</td>\n",
       "      <td>...</td>\n",
       "      <td>0</td>\n",
       "      <td>0</td>\n",
       "      <td>0</td>\n",
       "      <td>0</td>\n",
       "      <td>0</td>\n",
       "      <td>0</td>\n",
       "      <td>1</td>\n",
       "      <td>0</td>\n",
       "      <td>0</td>\n",
       "      <td>0</td>\n",
       "    </tr>\n",
       "    <tr>\n",
       "      <th>4</th>\n",
       "      <td>2</td>\n",
       "      <td>0</td>\n",
       "      <td>1</td>\n",
       "      <td>0</td>\n",
       "      <td>0</td>\n",
       "      <td>0</td>\n",
       "      <td>0</td>\n",
       "      <td>0</td>\n",
       "      <td>0</td>\n",
       "      <td>0</td>\n",
       "      <td>...</td>\n",
       "      <td>0</td>\n",
       "      <td>0</td>\n",
       "      <td>0</td>\n",
       "      <td>0</td>\n",
       "      <td>0</td>\n",
       "      <td>0</td>\n",
       "      <td>1</td>\n",
       "      <td>0</td>\n",
       "      <td>0</td>\n",
       "      <td>0</td>\n",
       "    </tr>\n",
       "  </tbody>\n",
       "</table>\n",
       "<p>5 rows × 30 columns</p>\n",
       "</div>"
      ],
      "text/plain": [
       "   Symbol  Make_alfa-romero  Make_audi  Make_bmw  Make_chevrolet  Make_dodge  \\\n",
       "0       3                 1          0         0               0           0   \n",
       "1       3                 1          0         0               0           0   \n",
       "2       1                 1          0         0               0           0   \n",
       "3       2                 0          1         0               0           0   \n",
       "4       2                 0          1         0               0           0   \n",
       "\n",
       "   Make_honda  Make_isuzu  Make_jaguar  Make_mazda  ...  Make_toyota  \\\n",
       "0           0           0            0           0  ...            0   \n",
       "1           0           0            0           0  ...            0   \n",
       "2           0           0            0           0  ...            0   \n",
       "3           0           0            0           0  ...            0   \n",
       "4           0           0            0           0  ...            0   \n",
       "\n",
       "   Make_volkswagen  Make_volvo  Engine Type_dohc  Engine Type_dohcv  \\\n",
       "0                0           0                 1                  0   \n",
       "1                0           0                 1                  0   \n",
       "2                0           0                 0                  0   \n",
       "3                0           0                 0                  0   \n",
       "4                0           0                 0                  0   \n",
       "\n",
       "   Engine Type_l  Engine Type_ohc  Engine Type_ohcf  Engine Type_ohcv  \\\n",
       "0              0                0                 0                 0   \n",
       "1              0                0                 0                 0   \n",
       "2              0                0                 0                 1   \n",
       "3              0                1                 0                 0   \n",
       "4              0                1                 0                 0   \n",
       "\n",
       "   Engine Type_rotor  \n",
       "0                  0  \n",
       "1                  0  \n",
       "2                  0  \n",
       "3                  0  \n",
       "4                  0  \n",
       "\n",
       "[5 rows x 30 columns]"
      ]
     },
     "execution_count": 341,
     "metadata": {},
     "output_type": "execute_result"
    }
   ],
   "source": [
    "# making dummies \n",
    "\n",
    "dummies = pd.get_dummies(dummies_df)\n",
    "dummies.head()"
   ]
  },
  {
   "cell_type": "markdown",
   "metadata": {},
   "source": [
    "As we can see above, a sample of our categorical data represented into numerical form with the help of get_dummies() library. It will help us use these data into machine learning algorithms. "
   ]
  },
  {
   "cell_type": "markdown",
   "metadata": {},
   "source": [
    "5. Consider the wheel-base, length, width, height, curb-weight, engine-size, compression ratio,\n",
    "horsepower, peak-rpm, and city-mpg variables. Using your dimensionality reduction expertise, use\n",
    "Python to reduce the dimensionality of this group of variables to a set of new orthogonal features. Be\n",
    "sure to include appropriate commentary explaining the dimensionality reduction method you have\n",
    "elected to implement and discuss the results of your efforts. For example, you should explain how\n",
    "many orthogonal features your approach has generated as well as how much variability is explained by\n",
    "each of your new features."
   ]
  },
  {
   "cell_type": "markdown",
   "metadata": {},
   "source": [
    "Dimensionality reduction helps us reduce the complexity of data without loosing informations. We will be uusing PCA approach for dimentionality reduction of this data. "
   ]
  },
  {
   "cell_type": "code",
   "execution_count": 470,
   "metadata": {},
   "outputs": [
    {
     "name": "stdout",
     "output_type": "stream",
     "text": [
      "(205, 10)\n",
      "   Wheel Base  Length  Width  Height  Curb Weight  Engine Size  \\\n",
      "0        88.6   168.8   64.1    48.8         2548          130   \n",
      "1        88.6   168.8   64.1    48.8         2548          130   \n",
      "2        94.5   171.2   65.5    52.4         2823          152   \n",
      "3        99.8   176.6   66.2    54.3         2337          109   \n",
      "4        99.4   176.6   66.4    54.3         2824          136   \n",
      "\n",
      "   Compression-Ratio Horsepower Peak-RPM  City-MPG  \n",
      "0                9.0        111     5000        21  \n",
      "1                9.0        111     5000        21  \n",
      "2                9.0        154     5000        19  \n",
      "3               10.0        102     5500        24  \n",
      "4                8.0        115     5500        18  \n",
      "<class 'pandas.core.frame.DataFrame'>\n",
      "RangeIndex: 205 entries, 0 to 204\n",
      "Data columns (total 10 columns):\n",
      " #   Column             Non-Null Count  Dtype  \n",
      "---  ------             --------------  -----  \n",
      " 0   Wheel Base         205 non-null    float64\n",
      " 1   Length             205 non-null    float64\n",
      " 2   Width              205 non-null    float64\n",
      " 3   Height             205 non-null    float64\n",
      " 4   Curb Weight        205 non-null    int64  \n",
      " 5   Engine Size        205 non-null    int64  \n",
      " 6   Compression-Ratio  205 non-null    float64\n",
      " 7   Horsepower         205 non-null    object \n",
      " 8   Peak-RPM           205 non-null    object \n",
      " 9   City-MPG           205 non-null    int64  \n",
      "dtypes: float64(5), int64(3), object(2)\n",
      "memory usage: 16.1+ KB\n",
      "None\n"
     ]
    }
   ],
   "source": [
    "# create new subset of data to perform the data cleaning steps\n",
    "\n",
    "pcs_stored = df[['Wheel Base', 'Length' , 'Width', 'Height', 'Curb Weight', 'Engine Size', 'Compression-Ratio','Horsepower', 'Peak-RPM','City-MPG']]\n",
    "print(pcs_stored.shape)\n",
    "print(pcs_stored.head())\n",
    "print(pcs_stored.info())\n",
    "\n",
    "new_stored = pcs_stored.copy()\n"
   ]
  },
  {
   "cell_type": "markdown",
   "metadata": {},
   "source": [
    "### Preparing data before using dimensionality reduction "
   ]
  },
  {
   "cell_type": "code",
   "execution_count": 471,
   "metadata": {},
   "outputs": [
    {
     "data": {
      "text/html": [
       "<div>\n",
       "<style scoped>\n",
       "    .dataframe tbody tr th:only-of-type {\n",
       "        vertical-align: middle;\n",
       "    }\n",
       "\n",
       "    .dataframe tbody tr th {\n",
       "        vertical-align: top;\n",
       "    }\n",
       "\n",
       "    .dataframe thead th {\n",
       "        text-align: right;\n",
       "    }\n",
       "</style>\n",
       "<table border=\"1\" class=\"dataframe\">\n",
       "  <thead>\n",
       "    <tr style=\"text-align: right;\">\n",
       "      <th></th>\n",
       "      <th>Wheel Base</th>\n",
       "      <th>Length</th>\n",
       "      <th>Width</th>\n",
       "      <th>Height</th>\n",
       "      <th>Curb Weight</th>\n",
       "      <th>Engine Size</th>\n",
       "      <th>Compression-Ratio</th>\n",
       "      <th>Horsepower</th>\n",
       "      <th>Peak-RPM</th>\n",
       "      <th>City-MPG</th>\n",
       "    </tr>\n",
       "  </thead>\n",
       "  <tbody>\n",
       "    <tr>\n",
       "      <th>130</th>\n",
       "      <td>96.1</td>\n",
       "      <td>181.5</td>\n",
       "      <td>66.5</td>\n",
       "      <td>55.2</td>\n",
       "      <td>2579</td>\n",
       "      <td>132</td>\n",
       "      <td>8.7</td>\n",
       "      <td>?</td>\n",
       "      <td>?</td>\n",
       "      <td>23</td>\n",
       "    </tr>\n",
       "    <tr>\n",
       "      <th>131</th>\n",
       "      <td>96.1</td>\n",
       "      <td>176.8</td>\n",
       "      <td>66.6</td>\n",
       "      <td>50.5</td>\n",
       "      <td>2460</td>\n",
       "      <td>132</td>\n",
       "      <td>8.7</td>\n",
       "      <td>?</td>\n",
       "      <td>?</td>\n",
       "      <td>23</td>\n",
       "    </tr>\n",
       "  </tbody>\n",
       "</table>\n",
       "</div>"
      ],
      "text/plain": [
       "     Wheel Base  Length  Width  Height  Curb Weight  Engine Size  \\\n",
       "130        96.1   181.5   66.5    55.2         2579          132   \n",
       "131        96.1   176.8   66.6    50.5         2460          132   \n",
       "\n",
       "     Compression-Ratio Horsepower Peak-RPM  City-MPG  \n",
       "130                8.7          ?        ?        23  \n",
       "131                8.7          ?        ?        23  "
      ]
     },
     "execution_count": 471,
     "metadata": {},
     "output_type": "execute_result"
    }
   ],
   "source": [
    "#checking for unique values\n",
    "# new_stored['Horsepower'].unique() \n",
    "new_stored.loc[new_stored['Horsepower']=='?']"
   ]
  },
  {
   "cell_type": "code",
   "execution_count": 472,
   "metadata": {},
   "outputs": [
    {
     "data": {
      "text/html": [
       "<div>\n",
       "<style scoped>\n",
       "    .dataframe tbody tr th:only-of-type {\n",
       "        vertical-align: middle;\n",
       "    }\n",
       "\n",
       "    .dataframe tbody tr th {\n",
       "        vertical-align: top;\n",
       "    }\n",
       "\n",
       "    .dataframe thead th {\n",
       "        text-align: right;\n",
       "    }\n",
       "</style>\n",
       "<table border=\"1\" class=\"dataframe\">\n",
       "  <thead>\n",
       "    <tr style=\"text-align: right;\">\n",
       "      <th></th>\n",
       "      <th>Wheel Base</th>\n",
       "      <th>Length</th>\n",
       "      <th>Width</th>\n",
       "      <th>Height</th>\n",
       "      <th>Curb Weight</th>\n",
       "      <th>Engine Size</th>\n",
       "      <th>Compression-Ratio</th>\n",
       "      <th>Horsepower</th>\n",
       "      <th>Peak-RPM</th>\n",
       "      <th>City-MPG</th>\n",
       "    </tr>\n",
       "  </thead>\n",
       "  <tbody>\n",
       "    <tr>\n",
       "      <th>130</th>\n",
       "      <td>96.1</td>\n",
       "      <td>181.5</td>\n",
       "      <td>66.5</td>\n",
       "      <td>55.2</td>\n",
       "      <td>2579</td>\n",
       "      <td>132</td>\n",
       "      <td>8.7</td>\n",
       "      <td>?</td>\n",
       "      <td>?</td>\n",
       "      <td>23</td>\n",
       "    </tr>\n",
       "    <tr>\n",
       "      <th>131</th>\n",
       "      <td>96.1</td>\n",
       "      <td>176.8</td>\n",
       "      <td>66.6</td>\n",
       "      <td>50.5</td>\n",
       "      <td>2460</td>\n",
       "      <td>132</td>\n",
       "      <td>8.7</td>\n",
       "      <td>?</td>\n",
       "      <td>?</td>\n",
       "      <td>23</td>\n",
       "    </tr>\n",
       "  </tbody>\n",
       "</table>\n",
       "</div>"
      ],
      "text/plain": [
       "     Wheel Base  Length  Width  Height  Curb Weight  Engine Size  \\\n",
       "130        96.1   181.5   66.5    55.2         2579          132   \n",
       "131        96.1   176.8   66.6    50.5         2460          132   \n",
       "\n",
       "     Compression-Ratio Horsepower Peak-RPM  City-MPG  \n",
       "130                8.7          ?        ?        23  \n",
       "131                8.7          ?        ?        23  "
      ]
     },
     "execution_count": 472,
     "metadata": {},
     "output_type": "execute_result"
    }
   ],
   "source": [
    "#checking for unique values\n",
    "# new_stored['Peak-RPM'].unique() \n",
    "new_stored.loc[new_stored['Peak-RPM']=='?']"
   ]
  },
  {
   "cell_type": "markdown",
   "metadata": {},
   "source": [
    "Replace ? with NaN values in each column. "
   ]
  },
  {
   "cell_type": "code",
   "execution_count": 473,
   "metadata": {},
   "outputs": [],
   "source": [
    "# replace ? with nan in the replaced df_replace data\n",
    "new_stored.replace('?', np.nan, inplace=True)"
   ]
  },
  {
   "cell_type": "markdown",
   "metadata": {},
   "source": [
    "Since the \"?\" character are in the same rows in both attributes, I am choosing to drop those rows. Dropping one will also drop the other one, as they are in same rows. "
   ]
  },
  {
   "cell_type": "code",
   "execution_count": 474,
   "metadata": {},
   "outputs": [
    {
     "name": "stdout",
     "output_type": "stream",
     "text": [
      "['111' '154' '102' '115' '110' '140' '160' '101' '121' '182' '48' '70'\n",
      " '68' '88' '145' '58' '76' '60' '86' '100' '78' '90' '176' '262' '135'\n",
      " '84' '64' '120' '72' '123' '155' '184' '175' '116' '69' '55' '97' '152'\n",
      " '200' '95' '142' '143' '207' '288' nan '73' '82' '94' '62' '56' '112'\n",
      " '92' '161' '156' '52' '85' '114' '162' '134' '106']\n",
      "\n",
      "['5000' '5500' '5800' '4250' '5400' '5100' '4800' '6000' '4750' '4650'\n",
      " '4200' '4350' '4500' '5200' '4150' '5600' '5900' '5750' nan '5250' '4900'\n",
      " '4400' '6600' '5300']\n"
     ]
    }
   ],
   "source": [
    "# making sure that the values are replaces by NaN\n",
    "print(new_stored['Horsepower'].unique() )\n",
    "print()\n",
    "print(new_stored['Peak-RPM'].unique() )"
   ]
  },
  {
   "cell_type": "markdown",
   "metadata": {},
   "source": [
    "Drop rows with NaN values: "
   ]
  },
  {
   "cell_type": "code",
   "execution_count": 475,
   "metadata": {},
   "outputs": [
    {
     "name": "stdout",
     "output_type": "stream",
     "text": [
      "     Wheel Base  Length  Width  Height  Curb Weight  Engine Size  \\\n",
      "0          88.6   168.8   64.1    48.8         2548          130   \n",
      "1          88.6   168.8   64.1    48.8         2548          130   \n",
      "2          94.5   171.2   65.5    52.4         2823          152   \n",
      "3          99.8   176.6   66.2    54.3         2337          109   \n",
      "4          99.4   176.6   66.4    54.3         2824          136   \n",
      "..          ...     ...    ...     ...          ...          ...   \n",
      "200       109.1   188.8   68.9    55.5         2952          141   \n",
      "201       109.1   188.8   68.8    55.5         3049          141   \n",
      "202       109.1   188.8   68.9    55.5         3012          173   \n",
      "203       109.1   188.8   68.9    55.5         3217          145   \n",
      "204       109.1   188.8   68.9    55.5         3062          141   \n",
      "\n",
      "     Compression-Ratio  Horsepower  Peak-RPM  City-MPG  \n",
      "0                  9.0       111.0    5000.0        21  \n",
      "1                  9.0       111.0    5000.0        21  \n",
      "2                  9.0       154.0    5000.0        19  \n",
      "3                 10.0       102.0    5500.0        24  \n",
      "4                  8.0       115.0    5500.0        18  \n",
      "..                 ...         ...       ...       ...  \n",
      "200                9.5       114.0    5400.0        23  \n",
      "201                8.7       160.0    5300.0        19  \n",
      "202                8.8       134.0    5500.0        18  \n",
      "203               23.0       106.0    4800.0        26  \n",
      "204                9.5       114.0    5400.0        19  \n",
      "\n",
      "[203 rows x 10 columns]\n"
     ]
    }
   ],
   "source": [
    "# convert the columns into numeric\n",
    "\n",
    "new_stored = new_stored.apply (pd.to_numeric, errors='coerce')\n",
    "\n",
    "#drop rows that have nan values\n",
    "new_stored = new_stored.dropna()\n",
    "\n",
    "print(new_stored)"
   ]
  },
  {
   "cell_type": "markdown",
   "metadata": {},
   "source": [
    "### PCA "
   ]
  },
  {
   "cell_type": "code",
   "execution_count": 476,
   "metadata": {},
   "outputs": [],
   "source": [
    "\n",
    "from sklearn.decomposition import PCA\n",
    "from sklearn import preprocessing\n",
    "\n",
    "# drop the column we will be looking for \n",
    "pca_test = new_stored.drop('City-MPG', 1)\n",
    "\n",
    "#normalize data\n",
    "new_stored = pd.DataFrame(preprocessing.scale(pca_test), columns=pca_test.columns)\n",
    "\n",
    "# do PCA\n",
    "pca = PCA(n_components=len(new_stored.columns))\n",
    "x_new = pca.fit_transform(new_stored)\n",
    "x_new = pd.DataFrame(x_new)\n"
   ]
  },
  {
   "cell_type": "code",
   "execution_count": 477,
   "metadata": {},
   "outputs": [
    {
     "name": "stdout",
     "output_type": "stream",
     "text": [
      "            0         1         2         3         4         5         6  \\\n",
      "0   -1.490252  1.338826  1.706358 -0.475079 -0.073052 -0.139529 -0.758153   \n",
      "1   -1.490252  1.338826  1.706358 -0.475079 -0.073052 -0.139529 -0.758153   \n",
      "2    0.290870  1.200658  0.866588 -0.439037  0.748179  0.226815 -0.335247   \n",
      "3   -0.231670  0.069483 -0.749133  0.596217 -0.188814  0.071216  0.000106   \n",
      "4    0.481889  0.738952 -0.703727  0.203548  0.113035 -0.051584  0.039598   \n",
      "..        ...       ...       ...       ...       ...       ...       ...   \n",
      "198  2.321113 -0.015684 -1.244652  0.550193 -0.775059 -0.068747  0.289899   \n",
      "199  2.752989  0.555376 -1.099008  0.317133 -0.323485  0.257847 -0.082423   \n",
      "200  2.765996  0.602044 -1.148136  0.470841 -0.336980 -0.273802  0.576864   \n",
      "201  3.036543 -2.294085  1.046724  1.949341 -0.203718 -0.153320 -0.044381   \n",
      "202  2.412255  0.005129 -1.231329  0.556132 -0.760166 -0.085749  0.231031   \n",
      "\n",
      "            7         8  \n",
      "0    0.442208  0.267373  \n",
      "1    0.442208  0.267373  \n",
      "2   -0.205440  0.093838  \n",
      "3    0.037866 -0.326173  \n",
      "4    0.110034  0.334021  \n",
      "..        ...       ...  \n",
      "198 -0.087997 -0.068942  \n",
      "199 -0.688836 -0.334892  \n",
      "200 -0.029014 -0.193646  \n",
      "201 -0.248893  0.031731  \n",
      "202 -0.106655  0.107533  \n",
      "\n",
      "[203 rows x 9 columns]\n"
     ]
    }
   ],
   "source": [
    "print(x_new)"
   ]
  },
  {
   "cell_type": "code",
   "execution_count": 478,
   "metadata": {},
   "outputs": [
    {
     "name": "stdout",
     "output_type": "stream",
     "text": [
      "Explain Variance:  [0.54838843 0.21013875 0.09938355 0.06433052 0.03390295 0.01489745\n",
      " 0.01391188 0.00842283 0.00662363]\n"
     ]
    }
   ],
   "source": [
    "print(\"Explain Variance: \", pca.explained_variance_ratio_)"
   ]
  },
  {
   "cell_type": "code",
   "execution_count": 483,
   "metadata": {},
   "outputs": [
    {
     "data": {
      "image/png": "[encoded data removed]",
      "text/plain": [
       "<Figure size 504x432 with 1 Axes>"
      ]
     },
     "metadata": {
      "needs_background": "light"
     },
     "output_type": "display_data"
    }
   ],
   "source": [
    "plt.figure(figsize=(7, 6))\n",
    "\n",
    "#plot the variance\n",
    "plt.plot(np.cumsum(pca.explained_variance_ratio_))\n",
    "\n",
    "plt.xlabel('n components')\n",
    "plt.ylabel('cumulative variance');"
   ]
  },
  {
   "cell_type": "markdown",
   "metadata": {},
   "source": [
    "We are not exactly sure which data points are making the difference in this plot. However we can see that almonst 5 components explain the 90% of the data"
   ]
  },
  {
   "cell_type": "markdown",
   "metadata": {},
   "source": [
    "We will transform those data again and keep the 5 for the regression. "
   ]
  },
  {
   "cell_type": "markdown",
   "metadata": {},
   "source": [
    "### PDA Again"
   ]
  },
  {
   "cell_type": "code",
   "execution_count": 484,
   "metadata": {},
   "outputs": [],
   "source": [
    "pca = PCA(n_components=5)\n",
    "# choose the same set of data, with reduced components\n",
    "x_new = pca.fit_transform(new_stored)\n",
    "x_new = pd.DataFrame(x_new)"
   ]
  },
  {
   "cell_type": "code",
   "execution_count": 485,
   "metadata": {},
   "outputs": [
    {
     "name": "stdout",
     "output_type": "stream",
     "text": [
      "            0         1         2         3         4\n",
      "0   -1.490252  1.338826  1.706358 -0.475079 -0.073052\n",
      "1   -1.490252  1.338826  1.706358 -0.475079 -0.073052\n",
      "2    0.290870  1.200658  0.866588 -0.439037  0.748179\n",
      "3   -0.231670  0.069483 -0.749133  0.596217 -0.188814\n",
      "4    0.481889  0.738952 -0.703727  0.203548  0.113035\n",
      "..        ...       ...       ...       ...       ...\n",
      "198  2.321113 -0.015684 -1.244652  0.550193 -0.775059\n",
      "199  2.752989  0.555376 -1.099008  0.317133 -0.323485\n",
      "200  2.765996  0.602044 -1.148136  0.470841 -0.336980\n",
      "201  3.036543 -2.294085  1.046724  1.949341 -0.203718\n",
      "202  2.412255  0.005129 -1.231329  0.556132 -0.760166\n",
      "\n",
      "[203 rows x 5 columns]\n"
     ]
    }
   ],
   "source": [
    "print(x_new)"
   ]
  },
  {
   "cell_type": "markdown",
   "metadata": {},
   "source": [
    "Ploting the data again:"
   ]
  },
  {
   "cell_type": "code",
   "execution_count": 488,
   "metadata": {},
   "outputs": [
    {
     "data": {
      "image/png": "[encoded data removed]",
      "text/plain": [
       "<Figure size 504x360 with 1 Axes>"
      ]
     },
     "metadata": {
      "needs_background": "light"
     },
     "output_type": "display_data"
    }
   ],
   "source": [
    "plt.figure(figsize=(7, 5))\n",
    "\n",
    "#plot the variance\n",
    "plt.plot(np.cumsum(pca.explained_variance_ratio_))\n",
    "\n",
    "plt.xlabel('n components')\n",
    "plt.ylabel('cumulative variance');"
   ]
  },
  {
   "cell_type": "markdown",
   "metadata": {},
   "source": [
    "As we can see, our approach of dimentionality reduction approach gave us a more balance distributed graph. Our attributes are reduced to 5 from 9 and that covers about 90% of the data. "
   ]
  }
 ],
 "metadata": {
  "kernelspec": {
   "display_name": "Python 3.9.12 ('base')",
   "language": "python",
   "name": "python3"
  },
  "language_info": {
   "codemirror_mode": {
    "name": "ipython",
    "version": 3
   },
   "file_extension": ".py",
   "mimetype": "text/x-python",
   "name": "python",
   "nbconvert_exporter": "python",
   "pygments_lexer": "ipython3",
   "version": "3.9.12"
  },
  "orig_nbformat": 4,
  "vscode": {
   "interpreter": {
    "hash": "f08154012ddadd8e950e6e9e035c7a7b32c136e7647e9b7c77e02eb723a8bedb"
   }
  }
 },
 "nbformat": 4,
 "nbformat_minor": 2
}
